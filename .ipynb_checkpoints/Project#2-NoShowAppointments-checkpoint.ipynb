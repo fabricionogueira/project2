{
 "cells": [
  {
   "cell_type": "markdown",
   "metadata": {},
   "source": [
    "## Project #2 - No Show Appointments"
   ]
  },
  {
   "cell_type": "markdown",
   "metadata": {},
   "source": [
    "## Questions we want to answer in the end\n",
    "\n",
    "### General question\n",
    "1. which characteristics determine that a patient will not appear?\n",
    "\n",
    "### Intermediate questions\n",
    "2. Do the patients' age or gender influence their no-show?\n",
    "3. Patients residing in certain places are more likely to no-show?\n",
    "4. Are there days of the week of scheduled appointments that are most likely to no-show patients?\n",
    "5. Has the age of the patients influenced their no-show?\n",
    "6. Patients with any disease are more likely not to show up?\n",
    "7. Does the patient's scholarship receipt influence his absence?\n",
    "8. Are there commom no-show patients (Patients that don't show up frequently?)\n",
    "\n"
   ]
  },
  {
   "cell_type": "markdown",
   "metadata": {},
   "source": [
    "### 1. Data exploration in order to find dispensable columns and missing data"
   ]
  },
  {
   "cell_type": "code",
   "execution_count": 1,
   "metadata": {
    "scrolled": true
   },
   "outputs": [
    {
     "name": "stdout",
     "output_type": "stream",
     "text": [
      "<class 'pandas.core.frame.DataFrame'>\n",
      "RangeIndex: 110527 entries, 0 to 110526\n",
      "Data columns (total 14 columns):\n",
      "patientid         110527 non-null float64\n",
      "appointmentid     110527 non-null int64\n",
      "gender            110527 non-null object\n",
      "scheduledday      110527 non-null object\n",
      "appointmentday    110527 non-null object\n",
      "age               110527 non-null int64\n",
      "neighbourhood     110527 non-null object\n",
      "scholarship       110527 non-null int64\n",
      "hipertension      110527 non-null int64\n",
      "diabetes          110527 non-null int64\n",
      "alcoholism        110527 non-null int64\n",
      "handcap           110527 non-null int64\n",
      "sms_received      110527 non-null int64\n",
      "no-show           110527 non-null object\n",
      "dtypes: float64(1), int64(8), object(5)\n",
      "memory usage: 11.8+ MB\n"
     ]
    }
   ],
   "source": [
    "# Importing Modules\n",
    "import pandas as pd\n",
    "import matplotlib.pyplot as plt\n",
    "\n",
    "# Importing data\n",
    "df = pd.read_csv('data/noshowappointments-kagglev2-may-2016.csv')\n",
    "\n",
    "# Ensuring that all columns will be lowercase\n",
    "df.rename(columns=lambda x: x.lower(), inplace=True)\n",
    "\n",
    "# Getting some data overview\n",
    "df.info()"
   ]
  },
  {
   "cell_type": "code",
   "execution_count": 2,
   "metadata": {},
   "outputs": [
    {
     "data": {
      "text/html": [
       "<div>\n",
       "<style scoped>\n",
       "    .dataframe tbody tr th:only-of-type {\n",
       "        vertical-align: middle;\n",
       "    }\n",
       "\n",
       "    .dataframe tbody tr th {\n",
       "        vertical-align: top;\n",
       "    }\n",
       "\n",
       "    .dataframe thead th {\n",
       "        text-align: right;\n",
       "    }\n",
       "</style>\n",
       "<table border=\"1\" class=\"dataframe\">\n",
       "  <thead>\n",
       "    <tr style=\"text-align: right;\">\n",
       "      <th></th>\n",
       "      <th>patientid</th>\n",
       "      <th>appointmentid</th>\n",
       "      <th>gender</th>\n",
       "      <th>scheduledday</th>\n",
       "      <th>appointmentday</th>\n",
       "      <th>age</th>\n",
       "      <th>neighbourhood</th>\n",
       "      <th>scholarship</th>\n",
       "      <th>hipertension</th>\n",
       "      <th>diabetes</th>\n",
       "      <th>alcoholism</th>\n",
       "      <th>handcap</th>\n",
       "      <th>sms_received</th>\n",
       "      <th>no-show</th>\n",
       "    </tr>\n",
       "  </thead>\n",
       "  <tbody>\n",
       "    <tr>\n",
       "      <th>0</th>\n",
       "      <td>2.987250e+13</td>\n",
       "      <td>5642903</td>\n",
       "      <td>F</td>\n",
       "      <td>2016-04-29T18:38:08Z</td>\n",
       "      <td>2016-04-29T00:00:00Z</td>\n",
       "      <td>62</td>\n",
       "      <td>JARDIM DA PENHA</td>\n",
       "      <td>0</td>\n",
       "      <td>1</td>\n",
       "      <td>0</td>\n",
       "      <td>0</td>\n",
       "      <td>0</td>\n",
       "      <td>0</td>\n",
       "      <td>No</td>\n",
       "    </tr>\n",
       "    <tr>\n",
       "      <th>1</th>\n",
       "      <td>5.589978e+14</td>\n",
       "      <td>5642503</td>\n",
       "      <td>M</td>\n",
       "      <td>2016-04-29T16:08:27Z</td>\n",
       "      <td>2016-04-29T00:00:00Z</td>\n",
       "      <td>56</td>\n",
       "      <td>JARDIM DA PENHA</td>\n",
       "      <td>0</td>\n",
       "      <td>0</td>\n",
       "      <td>0</td>\n",
       "      <td>0</td>\n",
       "      <td>0</td>\n",
       "      <td>0</td>\n",
       "      <td>No</td>\n",
       "    </tr>\n",
       "    <tr>\n",
       "      <th>2</th>\n",
       "      <td>4.262962e+12</td>\n",
       "      <td>5642549</td>\n",
       "      <td>F</td>\n",
       "      <td>2016-04-29T16:19:04Z</td>\n",
       "      <td>2016-04-29T00:00:00Z</td>\n",
       "      <td>62</td>\n",
       "      <td>MATA DA PRAIA</td>\n",
       "      <td>0</td>\n",
       "      <td>0</td>\n",
       "      <td>0</td>\n",
       "      <td>0</td>\n",
       "      <td>0</td>\n",
       "      <td>0</td>\n",
       "      <td>No</td>\n",
       "    </tr>\n",
       "    <tr>\n",
       "      <th>3</th>\n",
       "      <td>8.679512e+11</td>\n",
       "      <td>5642828</td>\n",
       "      <td>F</td>\n",
       "      <td>2016-04-29T17:29:31Z</td>\n",
       "      <td>2016-04-29T00:00:00Z</td>\n",
       "      <td>8</td>\n",
       "      <td>PONTAL DE CAMBURI</td>\n",
       "      <td>0</td>\n",
       "      <td>0</td>\n",
       "      <td>0</td>\n",
       "      <td>0</td>\n",
       "      <td>0</td>\n",
       "      <td>0</td>\n",
       "      <td>No</td>\n",
       "    </tr>\n",
       "    <tr>\n",
       "      <th>4</th>\n",
       "      <td>8.841186e+12</td>\n",
       "      <td>5642494</td>\n",
       "      <td>F</td>\n",
       "      <td>2016-04-29T16:07:23Z</td>\n",
       "      <td>2016-04-29T00:00:00Z</td>\n",
       "      <td>56</td>\n",
       "      <td>JARDIM DA PENHA</td>\n",
       "      <td>0</td>\n",
       "      <td>1</td>\n",
       "      <td>1</td>\n",
       "      <td>0</td>\n",
       "      <td>0</td>\n",
       "      <td>0</td>\n",
       "      <td>No</td>\n",
       "    </tr>\n",
       "  </tbody>\n",
       "</table>\n",
       "</div>"
      ],
      "text/plain": [
       "      patientid  appointmentid gender          scheduledday  \\\n",
       "0  2.987250e+13        5642903      F  2016-04-29T18:38:08Z   \n",
       "1  5.589978e+14        5642503      M  2016-04-29T16:08:27Z   \n",
       "2  4.262962e+12        5642549      F  2016-04-29T16:19:04Z   \n",
       "3  8.679512e+11        5642828      F  2016-04-29T17:29:31Z   \n",
       "4  8.841186e+12        5642494      F  2016-04-29T16:07:23Z   \n",
       "\n",
       "         appointmentday  age      neighbourhood  scholarship  hipertension  \\\n",
       "0  2016-04-29T00:00:00Z   62    JARDIM DA PENHA            0             1   \n",
       "1  2016-04-29T00:00:00Z   56    JARDIM DA PENHA            0             0   \n",
       "2  2016-04-29T00:00:00Z   62      MATA DA PRAIA            0             0   \n",
       "3  2016-04-29T00:00:00Z    8  PONTAL DE CAMBURI            0             0   \n",
       "4  2016-04-29T00:00:00Z   56    JARDIM DA PENHA            0             1   \n",
       "\n",
       "   diabetes  alcoholism  handcap  sms_received no-show  \n",
       "0         0           0        0             0      No  \n",
       "1         0           0        0             0      No  \n",
       "2         0           0        0             0      No  \n",
       "3         0           0        0             0      No  \n",
       "4         1           0        0             0      No  "
      ]
     },
     "execution_count": 2,
     "metadata": {},
     "output_type": "execute_result"
    }
   ],
   "source": [
    "df.head()"
   ]
  },
  {
   "cell_type": "markdown",
   "metadata": {},
   "source": [
    "After *info()*, it is possible to know the number of samples (110527) and features (14) as well each feature data type"
   ]
  },
  {
   "cell_type": "code",
   "execution_count": 3,
   "metadata": {},
   "outputs": [
    {
     "data": {
      "text/plain": [
       "patientid          62299\n",
       "appointmentid     110527\n",
       "gender                 2\n",
       "scheduledday      103549\n",
       "appointmentday        27\n",
       "age                  104\n",
       "neighbourhood         81\n",
       "scholarship            2\n",
       "hipertension           2\n",
       "diabetes               2\n",
       "alcoholism             2\n",
       "handcap                5\n",
       "sms_received           2\n",
       "no-show                2\n",
       "dtype: int64"
      ]
     },
     "execution_count": 3,
     "metadata": {},
     "output_type": "execute_result"
    }
   ],
   "source": [
    "# Checking the number of unique values\n",
    "df.nunique()"
   ]
  },
  {
   "cell_type": "markdown",
   "metadata": {},
   "source": [
    "### 2. Data cleaning and transformation\n",
    "As appointmentid feature is exclusive to each record (same number of entries and total samples), it can be droped. At a first glance, it seems that patientid could be removed once is a very specific value, but in a furder analysis it is possible to see that the number of unique values in patient id is less the total samples. It indicates that there are patients with more than one appointment. Hence, It is possible to identify those patients that have more no show appointments."
   ]
  },
  {
   "cell_type": "code",
   "execution_count": 4,
   "metadata": {},
   "outputs": [
    {
     "data": {
      "text/plain": [
       "patientid          62299\n",
       "gender                 2\n",
       "scheduledday      103549\n",
       "appointmentday        27\n",
       "age                  104\n",
       "neighbourhood         81\n",
       "scholarship            2\n",
       "hipertension           2\n",
       "diabetes               2\n",
       "alcoholism             2\n",
       "handcap                5\n",
       "sms_received           2\n",
       "no-show                2\n",
       "dtype: int64"
      ]
     },
     "execution_count": 4,
     "metadata": {},
     "output_type": "execute_result"
    }
   ],
   "source": [
    "# Removing appointmentid\n",
    "df.drop(['appointmentid'], axis=1, inplace=True)\n",
    "df.nunique()"
   ]
  },
  {
   "cell_type": "code",
   "execution_count": 5,
   "metadata": {},
   "outputs": [],
   "source": [
    "# Checking whether there are inconsistent data like:\n",
    "# age < 0\n",
    "df.drop(df.query('age < 0').index, inplace=True)\n",
    "# appointmentday before scheduledday\n",
    "df.drop(df.query('appointmentday < scheduledday').index, inplace=True)"
   ]
  },
  {
   "cell_type": "markdown",
   "metadata": {},
   "source": [
    "If there are duplicates, they can be removed"
   ]
  },
  {
   "cell_type": "code",
   "execution_count": 6,
   "metadata": {},
   "outputs": [],
   "source": [
    "# Checking duplicates\n",
    "df.duplicated().sum()\n",
    "# Droping duplicates\n",
    "df.drop_duplicates(inplace=True)"
   ]
  },
  {
   "cell_type": "markdown",
   "metadata": {},
   "source": [
    "Checking if there are null values"
   ]
  },
  {
   "cell_type": "code",
   "execution_count": 7,
   "metadata": {},
   "outputs": [
    {
     "data": {
      "text/plain": [
       "patientid         0\n",
       "gender            0\n",
       "scheduledday      0\n",
       "appointmentday    0\n",
       "age               0\n",
       "neighbourhood     0\n",
       "scholarship       0\n",
       "hipertension      0\n",
       "diabetes          0\n",
       "alcoholism        0\n",
       "handcap           0\n",
       "sms_received      0\n",
       "no-show           0\n",
       "dtype: int64"
      ]
     },
     "execution_count": 7,
     "metadata": {},
     "output_type": "execute_result"
    }
   ],
   "source": [
    "# Checking if there are null values\n",
    "df.isnull().sum()"
   ]
  },
  {
   "cell_type": "markdown",
   "metadata": {},
   "source": [
    "It was decided to create two columns to keep the weekday of schedule and appointment respectively. It was considered important to check if some specifics weekdays have more no show occurrencies. \n",
    "\n",
    "Besides, It was decided to create other two columns to check if the schedule and appointment were made in the beginning (days between 1 and 10), middle (days between 11 and 20) or in the end of the month (days between 21 and 31). That was decided in order to check if there is any correlation between the period of the month and the amount of no shows.\n",
    "\n",
    "In order to create those four columns, two functions were created. The first one *getMonthPeriodFromDate* [i] receives the date value as a string, once 'scheduledday' and 'appointmentday' has string values in original dataset, [ii] converts date value to DateTime and gets the day value. After that [iii] returns the period (beginning, middle or end).\n",
    "\n",
    "The second function *getWeekDayFromDate()* receives the weekday as number end returns it as a string ('Monday' to 'Sunday')\n",
    "\n",
    "Both functions were used to all items from 'scheduledday' and 'appointmentday' with 'map'. It was noticied that map function has a bad performance. Maybe there are alternatives to obtain the same result."
   ]
  },
  {
   "cell_type": "code",
   "execution_count": 8,
   "metadata": {},
   "outputs": [],
   "source": [
    "# Function that returns if a data is from beginning (1-10), middle (11-20) or end (20-31) of the month\n",
    "def getMonthPeriodFromDate(dateAsStr):\n",
    "    if pd.to_datetime(dateAsStr).day <= 10:\n",
    "        return \"beginning\"\n",
    "    elif pd.to_datetime(dateAsStr).day > 10 and pd.to_datetime(dateAsStr).day <= 20:\n",
    "        return \"middle\"\n",
    "    else:\n",
    "        return \"end\""
   ]
  },
  {
   "cell_type": "code",
   "execution_count": 9,
   "metadata": {},
   "outputs": [],
   "source": [
    "# Function that returns the name of weekday\n",
    "def getWeekDayFromDate(dateAsStr):\n",
    "    switcher = {\n",
    "        0: \"Monday\",\n",
    "        1: \"Tuesday\",\n",
    "        2: \"Wednesday\",\n",
    "        3: \"Thursday\",\n",
    "        4: \"Friday\",\n",
    "        5: \"Saturday\",\n",
    "        6: \"Sunday\"\n",
    "    }\n",
    "    return switcher.get(pd.to_datetime(dateAsStr).weekday())"
   ]
  },
  {
   "cell_type": "code",
   "execution_count": 10,
   "metadata": {},
   "outputs": [],
   "source": [
    "# Function that returns the name of the month\n",
    "def getMonthFromDate(dateAsStr):\n",
    "    switcher = {\n",
    "        1: \"January\",\n",
    "        2: \"February\",\n",
    "        3: \"March\",\n",
    "        4: \"April\",\n",
    "        5: \"May\",\n",
    "        6: \"June\",\n",
    "        7: \"July\",\n",
    "        8: \"August\",\n",
    "        9: \"September\",\n",
    "        10: \"October\",\n",
    "        11: \"November\",\n",
    "        12: \"December\"\n",
    "    }\n",
    "    return switcher.get(pd.to_datetime(dateAsStr).month)"
   ]
  },
  {
   "cell_type": "code",
   "execution_count": 11,
   "metadata": {},
   "outputs": [],
   "source": [
    "# Function that returns the Age Range from age\n",
    "# The age range considered is:\n",
    "#    Baby  -> [0,3]\n",
    "#    Child -> [4, 12]\n",
    "#    Teenager -> [13, 19]\n",
    "#    Adult -> [20, 60]\n",
    "#    Old -> [61, ...]\n",
    "def getAgeRange(age):\n",
    "    if age >= 0 and age <= 3:\n",
    "        return 'Baby'\n",
    "    elif age >= 4 and age <=12:\n",
    "        return 'Child'\n",
    "    elif age >= 13 and age <= 19:\n",
    "        return 'Teenager'\n",
    "    elif age >= 20 and age <= 60:\n",
    "        return 'Adult'\n",
    "    else:\n",
    "        return 'Old'"
   ]
  },
  {
   "cell_type": "code",
   "execution_count": 12,
   "metadata": {},
   "outputs": [
    {
     "data": {
      "text/html": [
       "<div>\n",
       "<style scoped>\n",
       "    .dataframe tbody tr th:only-of-type {\n",
       "        vertical-align: middle;\n",
       "    }\n",
       "\n",
       "    .dataframe tbody tr th {\n",
       "        vertical-align: top;\n",
       "    }\n",
       "\n",
       "    .dataframe thead th {\n",
       "        text-align: right;\n",
       "    }\n",
       "</style>\n",
       "<table border=\"1\" class=\"dataframe\">\n",
       "  <thead>\n",
       "    <tr style=\"text-align: right;\">\n",
       "      <th></th>\n",
       "      <th>patientid</th>\n",
       "      <th>gender</th>\n",
       "      <th>scheduledday</th>\n",
       "      <th>appointmentday</th>\n",
       "      <th>age</th>\n",
       "      <th>neighbourhood</th>\n",
       "      <th>scholarship</th>\n",
       "      <th>hipertension</th>\n",
       "      <th>diabetes</th>\n",
       "      <th>alcoholism</th>\n",
       "      <th>handcap</th>\n",
       "      <th>sms_received</th>\n",
       "      <th>no-show</th>\n",
       "      <th>age_range</th>\n",
       "      <th>scheduled_weekday</th>\n",
       "      <th>schedule_period_of_month</th>\n",
       "      <th>schedule_month</th>\n",
       "      <th>appointment_weekday</th>\n",
       "      <th>appointment_period_of_month</th>\n",
       "      <th>appointment_month</th>\n",
       "    </tr>\n",
       "  </thead>\n",
       "  <tbody>\n",
       "    <tr>\n",
       "      <th>5</th>\n",
       "      <td>9.598513e+13</td>\n",
       "      <td>F</td>\n",
       "      <td>2016-04-27T08:36:51Z</td>\n",
       "      <td>2016-04-29T00:00:00Z</td>\n",
       "      <td>76</td>\n",
       "      <td>REPÚBLICA</td>\n",
       "      <td>0</td>\n",
       "      <td>1</td>\n",
       "      <td>0</td>\n",
       "      <td>0</td>\n",
       "      <td>0</td>\n",
       "      <td>0</td>\n",
       "      <td>No</td>\n",
       "      <td>Old</td>\n",
       "      <td>Wednesday</td>\n",
       "      <td>end</td>\n",
       "      <td>April</td>\n",
       "      <td>Friday</td>\n",
       "      <td>end</td>\n",
       "      <td>April</td>\n",
       "    </tr>\n",
       "    <tr>\n",
       "      <th>6</th>\n",
       "      <td>7.336882e+14</td>\n",
       "      <td>F</td>\n",
       "      <td>2016-04-27T15:05:12Z</td>\n",
       "      <td>2016-04-29T00:00:00Z</td>\n",
       "      <td>23</td>\n",
       "      <td>GOIABEIRAS</td>\n",
       "      <td>0</td>\n",
       "      <td>0</td>\n",
       "      <td>0</td>\n",
       "      <td>0</td>\n",
       "      <td>0</td>\n",
       "      <td>0</td>\n",
       "      <td>Yes</td>\n",
       "      <td>Adult</td>\n",
       "      <td>Wednesday</td>\n",
       "      <td>end</td>\n",
       "      <td>April</td>\n",
       "      <td>Friday</td>\n",
       "      <td>end</td>\n",
       "      <td>April</td>\n",
       "    </tr>\n",
       "    <tr>\n",
       "      <th>7</th>\n",
       "      <td>3.449833e+12</td>\n",
       "      <td>F</td>\n",
       "      <td>2016-04-27T15:39:58Z</td>\n",
       "      <td>2016-04-29T00:00:00Z</td>\n",
       "      <td>39</td>\n",
       "      <td>GOIABEIRAS</td>\n",
       "      <td>0</td>\n",
       "      <td>0</td>\n",
       "      <td>0</td>\n",
       "      <td>0</td>\n",
       "      <td>0</td>\n",
       "      <td>0</td>\n",
       "      <td>Yes</td>\n",
       "      <td>Adult</td>\n",
       "      <td>Wednesday</td>\n",
       "      <td>end</td>\n",
       "      <td>April</td>\n",
       "      <td>Friday</td>\n",
       "      <td>end</td>\n",
       "      <td>April</td>\n",
       "    </tr>\n",
       "    <tr>\n",
       "      <th>9</th>\n",
       "      <td>7.812456e+13</td>\n",
       "      <td>F</td>\n",
       "      <td>2016-04-27T12:48:25Z</td>\n",
       "      <td>2016-04-29T00:00:00Z</td>\n",
       "      <td>19</td>\n",
       "      <td>CONQUISTA</td>\n",
       "      <td>0</td>\n",
       "      <td>0</td>\n",
       "      <td>0</td>\n",
       "      <td>0</td>\n",
       "      <td>0</td>\n",
       "      <td>0</td>\n",
       "      <td>No</td>\n",
       "      <td>Teenager</td>\n",
       "      <td>Wednesday</td>\n",
       "      <td>end</td>\n",
       "      <td>April</td>\n",
       "      <td>Friday</td>\n",
       "      <td>end</td>\n",
       "      <td>April</td>\n",
       "    </tr>\n",
       "    <tr>\n",
       "      <th>10</th>\n",
       "      <td>7.345362e+14</td>\n",
       "      <td>F</td>\n",
       "      <td>2016-04-27T14:58:11Z</td>\n",
       "      <td>2016-04-29T00:00:00Z</td>\n",
       "      <td>30</td>\n",
       "      <td>NOVA PALESTINA</td>\n",
       "      <td>0</td>\n",
       "      <td>0</td>\n",
       "      <td>0</td>\n",
       "      <td>0</td>\n",
       "      <td>0</td>\n",
       "      <td>0</td>\n",
       "      <td>No</td>\n",
       "      <td>Adult</td>\n",
       "      <td>Wednesday</td>\n",
       "      <td>end</td>\n",
       "      <td>April</td>\n",
       "      <td>Friday</td>\n",
       "      <td>end</td>\n",
       "      <td>April</td>\n",
       "    </tr>\n",
       "  </tbody>\n",
       "</table>\n",
       "</div>"
      ],
      "text/plain": [
       "       patientid gender          scheduledday        appointmentday  age  \\\n",
       "5   9.598513e+13      F  2016-04-27T08:36:51Z  2016-04-29T00:00:00Z   76   \n",
       "6   7.336882e+14      F  2016-04-27T15:05:12Z  2016-04-29T00:00:00Z   23   \n",
       "7   3.449833e+12      F  2016-04-27T15:39:58Z  2016-04-29T00:00:00Z   39   \n",
       "9   7.812456e+13      F  2016-04-27T12:48:25Z  2016-04-29T00:00:00Z   19   \n",
       "10  7.345362e+14      F  2016-04-27T14:58:11Z  2016-04-29T00:00:00Z   30   \n",
       "\n",
       "     neighbourhood  scholarship  hipertension  diabetes  alcoholism  handcap  \\\n",
       "5        REPÚBLICA            0             1         0           0        0   \n",
       "6       GOIABEIRAS            0             0         0           0        0   \n",
       "7       GOIABEIRAS            0             0         0           0        0   \n",
       "9        CONQUISTA            0             0         0           0        0   \n",
       "10  NOVA PALESTINA            0             0         0           0        0   \n",
       "\n",
       "    sms_received no-show age_range scheduled_weekday schedule_period_of_month  \\\n",
       "5              0      No       Old         Wednesday                      end   \n",
       "6              0     Yes     Adult         Wednesday                      end   \n",
       "7              0     Yes     Adult         Wednesday                      end   \n",
       "9              0      No  Teenager         Wednesday                      end   \n",
       "10             0      No     Adult         Wednesday                      end   \n",
       "\n",
       "   schedule_month appointment_weekday appointment_period_of_month  \\\n",
       "5           April              Friday                         end   \n",
       "6           April              Friday                         end   \n",
       "7           April              Friday                         end   \n",
       "9           April              Friday                         end   \n",
       "10          April              Friday                         end   \n",
       "\n",
       "   appointment_month  \n",
       "5              April  \n",
       "6              April  \n",
       "7              April  \n",
       "9              April  \n",
       "10             April  "
      ]
     },
     "execution_count": 12,
     "metadata": {},
     "output_type": "execute_result"
    }
   ],
   "source": [
    "# Creating four new columns (two to get weekday and periodo of the month to scheduled day and two to appointment day)\n",
    "# Each element of columns 'scheduledday' and 'appointmentday' is passed to the functions getMonthPeriodFromDate and getWeekDayFromDate by map \n",
    "# bad performance here :(\n",
    "df['age_range'] = df['age'].map(getAgeRange)\n",
    "\n",
    "df['scheduled_weekday'] = df['scheduledday'].map(getWeekDayFromDate)\n",
    "df['schedule_period_of_month'] = df['scheduledday'].map(getMonthPeriodFromDate)\n",
    "df['schedule_month'] = df['scheduledday'].map(getMonthFromDate)\n",
    "\n",
    "#df['appointment_weekday']     = pd.to_datetime(df['appointmentday']).dt.weekday.map(getWeekDayFromDate)\n",
    "df['appointment_weekday']     = df['appointmentday'].map(getWeekDayFromDate)\n",
    "df['appointment_period_of_month'] = df['appointmentday'].map(getMonthPeriodFromDate)\n",
    "df['appointment_month'] = df['appointmentday'].map(getMonthFromDate)\n",
    "\n",
    "df.head()"
   ]
  },
  {
   "cell_type": "code",
   "execution_count": 13,
   "metadata": {},
   "outputs": [
    {
     "data": {
      "text/html": [
       "<div>\n",
       "<style scoped>\n",
       "    .dataframe tbody tr th:only-of-type {\n",
       "        vertical-align: middle;\n",
       "    }\n",
       "\n",
       "    .dataframe tbody tr th {\n",
       "        vertical-align: top;\n",
       "    }\n",
       "\n",
       "    .dataframe thead th {\n",
       "        text-align: right;\n",
       "    }\n",
       "</style>\n",
       "<table border=\"1\" class=\"dataframe\">\n",
       "  <thead>\n",
       "    <tr style=\"text-align: right;\">\n",
       "      <th></th>\n",
       "      <th>patientid</th>\n",
       "      <th>gender</th>\n",
       "      <th>scheduledday</th>\n",
       "      <th>appointmentday</th>\n",
       "      <th>age</th>\n",
       "      <th>neighbourhood</th>\n",
       "      <th>scholarship</th>\n",
       "      <th>hipertension</th>\n",
       "      <th>diabetes</th>\n",
       "      <th>alcoholism</th>\n",
       "      <th>...</th>\n",
       "      <th>sms_received</th>\n",
       "      <th>no-show</th>\n",
       "      <th>age_range</th>\n",
       "      <th>scheduled_weekday</th>\n",
       "      <th>schedule_period_of_month</th>\n",
       "      <th>schedule_month</th>\n",
       "      <th>appointment_weekday</th>\n",
       "      <th>appointment_period_of_month</th>\n",
       "      <th>appointment_month</th>\n",
       "      <th>days_between_sched_appoint</th>\n",
       "    </tr>\n",
       "  </thead>\n",
       "  <tbody>\n",
       "    <tr>\n",
       "      <th>110522</th>\n",
       "      <td>2.572134e+12</td>\n",
       "      <td>F</td>\n",
       "      <td>2016-05-03T09:15:35Z</td>\n",
       "      <td>2016-06-07T00:00:00Z</td>\n",
       "      <td>56</td>\n",
       "      <td>MARIA ORTIZ</td>\n",
       "      <td>0</td>\n",
       "      <td>0</td>\n",
       "      <td>0</td>\n",
       "      <td>0</td>\n",
       "      <td>...</td>\n",
       "      <td>1</td>\n",
       "      <td>No</td>\n",
       "      <td>Adult</td>\n",
       "      <td>Tuesday</td>\n",
       "      <td>beginning</td>\n",
       "      <td>May</td>\n",
       "      <td>Tuesday</td>\n",
       "      <td>beginning</td>\n",
       "      <td>June</td>\n",
       "      <td>34 days 14:44:25</td>\n",
       "    </tr>\n",
       "    <tr>\n",
       "      <th>110523</th>\n",
       "      <td>3.596266e+12</td>\n",
       "      <td>F</td>\n",
       "      <td>2016-05-03T07:27:33Z</td>\n",
       "      <td>2016-06-07T00:00:00Z</td>\n",
       "      <td>51</td>\n",
       "      <td>MARIA ORTIZ</td>\n",
       "      <td>0</td>\n",
       "      <td>0</td>\n",
       "      <td>0</td>\n",
       "      <td>0</td>\n",
       "      <td>...</td>\n",
       "      <td>1</td>\n",
       "      <td>No</td>\n",
       "      <td>Adult</td>\n",
       "      <td>Tuesday</td>\n",
       "      <td>beginning</td>\n",
       "      <td>May</td>\n",
       "      <td>Tuesday</td>\n",
       "      <td>beginning</td>\n",
       "      <td>June</td>\n",
       "      <td>34 days 16:32:27</td>\n",
       "    </tr>\n",
       "    <tr>\n",
       "      <th>110524</th>\n",
       "      <td>1.557663e+13</td>\n",
       "      <td>F</td>\n",
       "      <td>2016-04-27T16:03:52Z</td>\n",
       "      <td>2016-06-07T00:00:00Z</td>\n",
       "      <td>21</td>\n",
       "      <td>MARIA ORTIZ</td>\n",
       "      <td>0</td>\n",
       "      <td>0</td>\n",
       "      <td>0</td>\n",
       "      <td>0</td>\n",
       "      <td>...</td>\n",
       "      <td>1</td>\n",
       "      <td>No</td>\n",
       "      <td>Adult</td>\n",
       "      <td>Wednesday</td>\n",
       "      <td>end</td>\n",
       "      <td>April</td>\n",
       "      <td>Tuesday</td>\n",
       "      <td>beginning</td>\n",
       "      <td>June</td>\n",
       "      <td>40 days 07:56:08</td>\n",
       "    </tr>\n",
       "    <tr>\n",
       "      <th>110525</th>\n",
       "      <td>9.213493e+13</td>\n",
       "      <td>F</td>\n",
       "      <td>2016-04-27T15:09:23Z</td>\n",
       "      <td>2016-06-07T00:00:00Z</td>\n",
       "      <td>38</td>\n",
       "      <td>MARIA ORTIZ</td>\n",
       "      <td>0</td>\n",
       "      <td>0</td>\n",
       "      <td>0</td>\n",
       "      <td>0</td>\n",
       "      <td>...</td>\n",
       "      <td>1</td>\n",
       "      <td>No</td>\n",
       "      <td>Adult</td>\n",
       "      <td>Wednesday</td>\n",
       "      <td>end</td>\n",
       "      <td>April</td>\n",
       "      <td>Tuesday</td>\n",
       "      <td>beginning</td>\n",
       "      <td>June</td>\n",
       "      <td>40 days 08:50:37</td>\n",
       "    </tr>\n",
       "    <tr>\n",
       "      <th>110526</th>\n",
       "      <td>3.775115e+14</td>\n",
       "      <td>F</td>\n",
       "      <td>2016-04-27T13:30:56Z</td>\n",
       "      <td>2016-06-07T00:00:00Z</td>\n",
       "      <td>54</td>\n",
       "      <td>MARIA ORTIZ</td>\n",
       "      <td>0</td>\n",
       "      <td>0</td>\n",
       "      <td>0</td>\n",
       "      <td>0</td>\n",
       "      <td>...</td>\n",
       "      <td>1</td>\n",
       "      <td>No</td>\n",
       "      <td>Adult</td>\n",
       "      <td>Wednesday</td>\n",
       "      <td>end</td>\n",
       "      <td>April</td>\n",
       "      <td>Tuesday</td>\n",
       "      <td>beginning</td>\n",
       "      <td>June</td>\n",
       "      <td>40 days 10:29:04</td>\n",
       "    </tr>\n",
       "  </tbody>\n",
       "</table>\n",
       "<p>5 rows × 21 columns</p>\n",
       "</div>"
      ],
      "text/plain": [
       "           patientid gender          scheduledday        appointmentday  age  \\\n",
       "110522  2.572134e+12      F  2016-05-03T09:15:35Z  2016-06-07T00:00:00Z   56   \n",
       "110523  3.596266e+12      F  2016-05-03T07:27:33Z  2016-06-07T00:00:00Z   51   \n",
       "110524  1.557663e+13      F  2016-04-27T16:03:52Z  2016-06-07T00:00:00Z   21   \n",
       "110525  9.213493e+13      F  2016-04-27T15:09:23Z  2016-06-07T00:00:00Z   38   \n",
       "110526  3.775115e+14      F  2016-04-27T13:30:56Z  2016-06-07T00:00:00Z   54   \n",
       "\n",
       "       neighbourhood  scholarship  hipertension  diabetes  alcoholism  \\\n",
       "110522   MARIA ORTIZ            0             0         0           0   \n",
       "110523   MARIA ORTIZ            0             0         0           0   \n",
       "110524   MARIA ORTIZ            0             0         0           0   \n",
       "110525   MARIA ORTIZ            0             0         0           0   \n",
       "110526   MARIA ORTIZ            0             0         0           0   \n",
       "\n",
       "                  ...              sms_received  no-show age_range  \\\n",
       "110522            ...                         1       No     Adult   \n",
       "110523            ...                         1       No     Adult   \n",
       "110524            ...                         1       No     Adult   \n",
       "110525            ...                         1       No     Adult   \n",
       "110526            ...                         1       No     Adult   \n",
       "\n",
       "       scheduled_weekday schedule_period_of_month schedule_month  \\\n",
       "110522           Tuesday                beginning            May   \n",
       "110523           Tuesday                beginning            May   \n",
       "110524         Wednesday                      end          April   \n",
       "110525         Wednesday                      end          April   \n",
       "110526         Wednesday                      end          April   \n",
       "\n",
       "       appointment_weekday appointment_period_of_month appointment_month  \\\n",
       "110522             Tuesday                   beginning              June   \n",
       "110523             Tuesday                   beginning              June   \n",
       "110524             Tuesday                   beginning              June   \n",
       "110525             Tuesday                   beginning              June   \n",
       "110526             Tuesday                   beginning              June   \n",
       "\n",
       "       days_between_sched_appoint  \n",
       "110522           34 days 14:44:25  \n",
       "110523           34 days 16:32:27  \n",
       "110524           40 days 07:56:08  \n",
       "110525           40 days 08:50:37  \n",
       "110526           40 days 10:29:04  \n",
       "\n",
       "[5 rows x 21 columns]"
      ]
     },
     "execution_count": 13,
     "metadata": {},
     "output_type": "execute_result"
    }
   ],
   "source": [
    "df['days_between_sched_appoint'] = pd.to_datetime(df['appointmentday']) - pd.to_datetime(df['scheduledday'])\n",
    "df.tail()"
   ]
  },
  {
   "cell_type": "markdown",
   "metadata": {},
   "source": [
    "## 3. Exploring with visuals to answer some questions"
   ]
  },
  {
   "cell_type": "markdown",
   "metadata": {},
   "source": [
    "Answering the questions\n",
    "\n",
    "2. Do the patients' age or gender influence their no-show?\n",
    "\n",
    " * In order to answer the question 1, let's check the data behavior about gender and age against no-shows"
   ]
  },
  {
   "cell_type": "code",
   "execution_count": 14,
   "metadata": {},
   "outputs": [
    {
     "data": {
      "text/plain": [
       "gender  no-show\n",
       "F       No         34160\n",
       "        Yes        13544\n",
       "M       No         16932\n",
       "        Yes         6773\n",
       "dtype: int64"
      ]
     },
     "execution_count": 14,
     "metadata": {},
     "output_type": "execute_result"
    }
   ],
   "source": [
    "df.groupby(['gender', 'no-show']).size()"
   ]
  },
  {
   "cell_type": "code",
   "execution_count": 15,
   "metadata": {},
   "outputs": [
    {
     "data": {
      "image/png": "[encoded data removed]",
      "text/plain": [
       "<Figure size 432x288 with 1 Axes>"
      ]
     },
     "metadata": {},
     "output_type": "display_data"
    }
   ],
   "source": [
    "df.groupby(['gender', 'no-show']).size().unstack().plot(kind='bar',stacked=True);"
   ]
  },
  {
   "cell_type": "code",
   "execution_count": 16,
   "metadata": {},
   "outputs": [
    {
     "data": {
      "text/plain": [
       "age_range  no-show\n",
       "Adult      No         28099\n",
       "           Yes        11671\n",
       "Baby       No          3269\n",
       "           Yes         1458\n",
       "Child      No          5215\n",
       "           Yes         2338\n",
       "Old        No         10966\n",
       "           Yes         2805\n",
       "Teenager   No          3543\n",
       "           Yes         2045\n",
       "dtype: int64"
      ]
     },
     "execution_count": 16,
     "metadata": {},
     "output_type": "execute_result"
    }
   ],
   "source": [
    "df.groupby(['age_range', 'no-show']).size()"
   ]
  },
  {
   "cell_type": "code",
   "execution_count": 17,
   "metadata": {},
   "outputs": [
    {
     "data": {
      "image/png": "[encoded data removed]",
      "text/plain": [
       "<Figure size 432x288 with 1 Axes>"
      ]
     },
     "metadata": {},
     "output_type": "display_data"
    }
   ],
   "source": [
    "df.groupby(['age_range', 'no-show']).size().unstack().plot(kind='bar',stacked=True);"
   ]
  },
  {
   "cell_type": "markdown",
   "metadata": {},
   "source": [
    "* According to the graphs and data, the gender can not determine a tendency to no-show once both 'F' and 'M' have a very close no-show frequency (About 28%)]\n",
    "\n",
    "* According to the graphs and data, the age range Teenager has about 37% of no-show frequency. Baby and Child have about 30%. Those three types could be considered more likely not to show up."
   ]
  },
  {
   "cell_type": "markdown",
   "metadata": {},
   "source": [
    "In the next question we check if the place where patients are have influence in the no-show\n",
    "\n",
    "3. Patients residing in certain neighbourhood are more likely to no-show?"
   ]
  },
  {
   "cell_type": "code",
   "execution_count": 30,
   "metadata": {},
   "outputs": [
    {
     "data": {
      "text/plain": [
       "JARDIM CAMBURI                 5130\n",
       "MARIA ORTIZ                    3729\n",
       "RESISTÊNCIA                    2775\n",
       "JARDIM DA PENHA                2654\n",
       "ITARARÉ                        2341\n",
       "CENTRO                         2248\n",
       "TABUAZEIRO                     1917\n",
       "JESUS DE NAZARETH              1754\n",
       "BONFIM                         1697\n",
       "JABOUR                         1680\n",
       "CARATOÍRA                      1667\n",
       "SANTA MARTHA                   1623\n",
       "SANTO ANTÔNIO                  1610\n",
       "SANTO ANDRÉ                    1605\n",
       "SÃO PEDRO                      1572\n",
       "ILHA DO PRÍNCIPE               1503\n",
       "ANDORINHAS                     1461\n",
       "ROMÃO                          1404\n",
       "SÃO JOSÉ                       1369\n",
       "DA PENHA                       1354\n",
       "MARUÍPE                        1348\n",
       "ILHA DE SANTA MARIA            1284\n",
       "FORTE SÃO JOÃO                 1271\n",
       "SÃO CRISTÓVÃO                  1269\n",
       "NOVA PALESTINA                 1185\n",
       "BELA VISTA                     1102\n",
       "GURIGICA                       1101\n",
       "CRUZAMENTO                     1014\n",
       "PRAIA DO SUÁ                    945\n",
       "REDENÇÃO                        931\n",
       "                               ... \n",
       "SANTA CLARA                     376\n",
       "DO CABRAL                       361\n",
       "SANTA CECÍLIA                   349\n",
       "SANTOS REIS                     348\n",
       "ESTRELINHA                      344\n",
       "SOLON BORGES                    337\n",
       "DO MOSCOSO                      304\n",
       "SANTA LÚCIA                     298\n",
       "SANTA LUÍZA                     284\n",
       "BARRO VERMELHO                  284\n",
       "PIEDADE                         268\n",
       "COMDUSA                         230\n",
       "BOA VISTA                       221\n",
       "DE LOURDES                      219\n",
       "FRADINHOS                       193\n",
       "ANTÔNIO HONÓRIO                 180\n",
       "ARIOVALDO FAVALESSA             173\n",
       "MÁRIO CYPRESTE                  169\n",
       "ENSEADA DO SUÁ                  163\n",
       "SANTA HELENA                    126\n",
       "HORTO                           114\n",
       "UNIVERSITÁRIO                   112\n",
       "NAZARETH                        108\n",
       "SEGURANÇA DO LAR                102\n",
       "MORADA DE CAMBURI                78\n",
       "PONTAL DE CAMBURI                41\n",
       "ILHA DO BOI                      23\n",
       "ILHA DO FRADE                     8\n",
       "AEROPORTO                         5\n",
       "ILHAS OCEÂNICAS DE TRINDADE       2\n",
       "Name: neighbourhood, Length: 80, dtype: int64"
      ]
     },
     "execution_count": 30,
     "metadata": {},
     "output_type": "execute_result"
    }
   ],
   "source": [
    "df['neighbourhood'].value_counts()"
   ]
  },
  {
   "cell_type": "markdown",
   "metadata": {},
   "source": [
    "The next question tries to infer if there is any correlation between the week days of schedule and appointments. Maybe because there are some influence factors that no-show might be increased in some week days.\n",
    "4. Are there days of the week of scheduled appointments that are most likely to no-show patients?"
   ]
  },
  {
   "cell_type": "code",
   "execution_count": 24,
   "metadata": {},
   "outputs": [
    {
     "data": {
      "text/plain": [
       "scheduled_weekday  no-show\n",
       "Friday             No          8839\n",
       "                   Yes         3474\n",
       "Monday             No         10598\n",
       "                   Yes         4229\n",
       "Saturday           No            14\n",
       "                   Yes            1\n",
       "Thursday           No          8633\n",
       "                   Yes         3405\n",
       "Tuesday            No         12057\n",
       "                   Yes         4832\n",
       "Wednesday          No         10951\n",
       "                   Yes         4376\n",
       "dtype: int64"
      ]
     },
     "execution_count": 24,
     "metadata": {},
     "output_type": "execute_result"
    }
   ],
   "source": [
    "df.groupby(['scheduled_weekday', 'no-show']).size()"
   ]
  },
  {
   "cell_type": "code",
   "execution_count": 26,
   "metadata": {},
   "outputs": [
    {
     "data": {
      "image/png": "[encoded data removed]",
      "text/plain": [
       "<Figure size 432x288 with 1 Axes>"
      ]
     },
     "metadata": {},
     "output_type": "display_data"
    }
   ],
   "source": [
    "df.groupby(['scheduled_weekday', 'no-show']).size().unstack().plot(kind='bar',stacked=True);"
   ]
  },
  {
   "cell_type": "code",
   "execution_count": 27,
   "metadata": {},
   "outputs": [
    {
     "data": {
      "text/plain": [
       "appointment_weekday  no-show\n",
       "Friday               No          8746\n",
       "                     Yes         3631\n",
       "Monday               No         10097\n",
       "                     Yes         4351\n",
       "Saturday             No            22\n",
       "                     Yes            9\n",
       "Thursday             No          8201\n",
       "                     Yes         3063\n",
       "Tuesday              No         11679\n",
       "                     Yes         4672\n",
       "Wednesday            No         12347\n",
       "                     Yes         4591\n",
       "dtype: int64"
      ]
     },
     "execution_count": 27,
     "metadata": {},
     "output_type": "execute_result"
    }
   ],
   "source": [
    "df.groupby(['appointment_weekday', 'no-show']).size()"
   ]
  },
  {
   "cell_type": "code",
   "execution_count": 255,
   "metadata": {},
   "outputs": [
    {
     "data": {
      "image/png": "[encoded data removed]",
      "text/plain": [
       "<Figure size 432x288 with 1 Axes>"
      ]
     },
     "metadata": {},
     "output_type": "display_data"
    }
   ],
   "source": [
    "df.groupby(['appointment_weekday', 'no-show']).size().unstack().plot(kind='bar',stacked=True);"
   ]
  },
  {
   "cell_type": "markdown",
   "metadata": {},
   "source": [
    "As we can see in both previous graphs there is no correlation between week day in which the schedule was made or the appointment was made. The proportion of no-show is almost the same among all week days (29%)."
   ]
  }
 ],
 "metadata": {
  "kernelspec": {
   "display_name": "Python 3",
   "language": "python",
   "name": "python3"
  },
  "language_info": {
   "codemirror_mode": {
    "name": "ipython",
    "version": 3
   },
   "file_extension": ".py",
   "mimetype": "text/x-python",
   "name": "python",
   "nbconvert_exporter": "python",
   "pygments_lexer": "ipython3",
   "version": "3.6.6"
  }
 },
 "nbformat": 4,
 "nbformat_minor": 2
}
