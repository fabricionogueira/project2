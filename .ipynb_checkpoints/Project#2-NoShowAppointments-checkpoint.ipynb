{
 "cells": [
  {
   "cell_type": "markdown",
   "metadata": {},
   "source": [
    "## Project #2 - No Show Appointments"
   ]
  },
  {
   "cell_type": "markdown",
   "metadata": {},
   "source": [
    "## Questions we want to answer in the end\n",
    "\n",
    "### General question\n",
    "* Which characteristics determine that a patient will not appear?\n",
    "\n",
    "### Intermediate questions\n",
    "* Q1. Do the patients' age or gender influence their no-show?\n",
    "* Q2. Are there days of the week of scheduled appointments that are most likely to no-show patients?\n",
    "* Q3. Patients with any disease are more likely not to show up?\n",
    "* Q4. Are there more no-shows patients in the beginning (Days between 1 to 10), middle (days between 10 to 20) or end of the month (days between 21 to 31)?\n",
    "* Q5. Does the patient's scholarship receipt influence his absence?\n",
    "* Q6. The reception of SMS helps patients to show up in their appointments?\n",
    "* Q7. Is the interval between schedule day and appointment day influences no-shows?\n",
    "\n",
    "\n"
   ]
  },
  {
   "cell_type": "markdown",
   "metadata": {},
   "source": [
    "### 1. Data exploration in order to find dispensable columns and missing data"
   ]
  },
  {
   "cell_type": "code",
   "execution_count": 71,
   "metadata": {
    "scrolled": true
   },
   "outputs": [
    {
     "name": "stdout",
     "output_type": "stream",
     "text": [
      "<class 'pandas.core.frame.DataFrame'>\n",
      "RangeIndex: 110527 entries, 0 to 110526\n",
      "Data columns (total 14 columns):\n",
      "patientid         110527 non-null float64\n",
      "appointmentid     110527 non-null int64\n",
      "gender            110527 non-null object\n",
      "scheduledday      110527 non-null object\n",
      "appointmentday    110527 non-null object\n",
      "age               110527 non-null int64\n",
      "neighbourhood     110527 non-null object\n",
      "scholarship       110527 non-null int64\n",
      "hipertension      110527 non-null int64\n",
      "diabetes          110527 non-null int64\n",
      "alcoholism        110527 non-null int64\n",
      "handcap           110527 non-null int64\n",
      "sms_received      110527 non-null int64\n",
      "no-show           110527 non-null object\n",
      "dtypes: float64(1), int64(8), object(5)\n",
      "memory usage: 11.8+ MB\n"
     ]
    }
   ],
   "source": [
    "# Importing Modules\n",
    "import pandas as pd\n",
    "import matplotlib.pyplot as plt\n",
    "\n",
    "# Importing data\n",
    "df = pd.read_csv('data/noshowappointments-kagglev2-may-2016.csv')\n",
    "\n",
    "# Ensuring that all columns will be lowercase\n",
    "df.rename(columns=lambda x: x.lower(), inplace=True)\n",
    "\n",
    "# Getting some data overview\n",
    "df.info()"
   ]
  },
  {
   "cell_type": "code",
   "execution_count": 72,
   "metadata": {},
   "outputs": [
    {
     "data": {
      "text/html": [
       "<div>\n",
       "<style scoped>\n",
       "    .dataframe tbody tr th:only-of-type {\n",
       "        vertical-align: middle;\n",
       "    }\n",
       "\n",
       "    .dataframe tbody tr th {\n",
       "        vertical-align: top;\n",
       "    }\n",
       "\n",
       "    .dataframe thead th {\n",
       "        text-align: right;\n",
       "    }\n",
       "</style>\n",
       "<table border=\"1\" class=\"dataframe\">\n",
       "  <thead>\n",
       "    <tr style=\"text-align: right;\">\n",
       "      <th></th>\n",
       "      <th>patientid</th>\n",
       "      <th>appointmentid</th>\n",
       "      <th>gender</th>\n",
       "      <th>scheduledday</th>\n",
       "      <th>appointmentday</th>\n",
       "      <th>age</th>\n",
       "      <th>neighbourhood</th>\n",
       "      <th>scholarship</th>\n",
       "      <th>hipertension</th>\n",
       "      <th>diabetes</th>\n",
       "      <th>alcoholism</th>\n",
       "      <th>handcap</th>\n",
       "      <th>sms_received</th>\n",
       "      <th>no-show</th>\n",
       "    </tr>\n",
       "  </thead>\n",
       "  <tbody>\n",
       "    <tr>\n",
       "      <th>0</th>\n",
       "      <td>2.987250e+13</td>\n",
       "      <td>5642903</td>\n",
       "      <td>F</td>\n",
       "      <td>2016-04-29T18:38:08Z</td>\n",
       "      <td>2016-04-29T00:00:00Z</td>\n",
       "      <td>62</td>\n",
       "      <td>JARDIM DA PENHA</td>\n",
       "      <td>0</td>\n",
       "      <td>1</td>\n",
       "      <td>0</td>\n",
       "      <td>0</td>\n",
       "      <td>0</td>\n",
       "      <td>0</td>\n",
       "      <td>No</td>\n",
       "    </tr>\n",
       "    <tr>\n",
       "      <th>1</th>\n",
       "      <td>5.589978e+14</td>\n",
       "      <td>5642503</td>\n",
       "      <td>M</td>\n",
       "      <td>2016-04-29T16:08:27Z</td>\n",
       "      <td>2016-04-29T00:00:00Z</td>\n",
       "      <td>56</td>\n",
       "      <td>JARDIM DA PENHA</td>\n",
       "      <td>0</td>\n",
       "      <td>0</td>\n",
       "      <td>0</td>\n",
       "      <td>0</td>\n",
       "      <td>0</td>\n",
       "      <td>0</td>\n",
       "      <td>No</td>\n",
       "    </tr>\n",
       "    <tr>\n",
       "      <th>2</th>\n",
       "      <td>4.262962e+12</td>\n",
       "      <td>5642549</td>\n",
       "      <td>F</td>\n",
       "      <td>2016-04-29T16:19:04Z</td>\n",
       "      <td>2016-04-29T00:00:00Z</td>\n",
       "      <td>62</td>\n",
       "      <td>MATA DA PRAIA</td>\n",
       "      <td>0</td>\n",
       "      <td>0</td>\n",
       "      <td>0</td>\n",
       "      <td>0</td>\n",
       "      <td>0</td>\n",
       "      <td>0</td>\n",
       "      <td>No</td>\n",
       "    </tr>\n",
       "    <tr>\n",
       "      <th>3</th>\n",
       "      <td>8.679512e+11</td>\n",
       "      <td>5642828</td>\n",
       "      <td>F</td>\n",
       "      <td>2016-04-29T17:29:31Z</td>\n",
       "      <td>2016-04-29T00:00:00Z</td>\n",
       "      <td>8</td>\n",
       "      <td>PONTAL DE CAMBURI</td>\n",
       "      <td>0</td>\n",
       "      <td>0</td>\n",
       "      <td>0</td>\n",
       "      <td>0</td>\n",
       "      <td>0</td>\n",
       "      <td>0</td>\n",
       "      <td>No</td>\n",
       "    </tr>\n",
       "    <tr>\n",
       "      <th>4</th>\n",
       "      <td>8.841186e+12</td>\n",
       "      <td>5642494</td>\n",
       "      <td>F</td>\n",
       "      <td>2016-04-29T16:07:23Z</td>\n",
       "      <td>2016-04-29T00:00:00Z</td>\n",
       "      <td>56</td>\n",
       "      <td>JARDIM DA PENHA</td>\n",
       "      <td>0</td>\n",
       "      <td>1</td>\n",
       "      <td>1</td>\n",
       "      <td>0</td>\n",
       "      <td>0</td>\n",
       "      <td>0</td>\n",
       "      <td>No</td>\n",
       "    </tr>\n",
       "  </tbody>\n",
       "</table>\n",
       "</div>"
      ],
      "text/plain": [
       "      patientid  appointmentid gender          scheduledday  \\\n",
       "0  2.987250e+13        5642903      F  2016-04-29T18:38:08Z   \n",
       "1  5.589978e+14        5642503      M  2016-04-29T16:08:27Z   \n",
       "2  4.262962e+12        5642549      F  2016-04-29T16:19:04Z   \n",
       "3  8.679512e+11        5642828      F  2016-04-29T17:29:31Z   \n",
       "4  8.841186e+12        5642494      F  2016-04-29T16:07:23Z   \n",
       "\n",
       "         appointmentday  age      neighbourhood  scholarship  hipertension  \\\n",
       "0  2016-04-29T00:00:00Z   62    JARDIM DA PENHA            0             1   \n",
       "1  2016-04-29T00:00:00Z   56    JARDIM DA PENHA            0             0   \n",
       "2  2016-04-29T00:00:00Z   62      MATA DA PRAIA            0             0   \n",
       "3  2016-04-29T00:00:00Z    8  PONTAL DE CAMBURI            0             0   \n",
       "4  2016-04-29T00:00:00Z   56    JARDIM DA PENHA            0             1   \n",
       "\n",
       "   diabetes  alcoholism  handcap  sms_received no-show  \n",
       "0         0           0        0             0      No  \n",
       "1         0           0        0             0      No  \n",
       "2         0           0        0             0      No  \n",
       "3         0           0        0             0      No  \n",
       "4         1           0        0             0      No  "
      ]
     },
     "execution_count": 72,
     "metadata": {},
     "output_type": "execute_result"
    }
   ],
   "source": [
    "df.head()"
   ]
  },
  {
   "cell_type": "markdown",
   "metadata": {},
   "source": [
    "After *info()*, it is possible to know the number of samples (110527) and features (14) as well each feature data type"
   ]
  },
  {
   "cell_type": "code",
   "execution_count": 73,
   "metadata": {},
   "outputs": [
    {
     "data": {
      "text/plain": [
       "patientid          62299\n",
       "appointmentid     110527\n",
       "gender                 2\n",
       "scheduledday      103549\n",
       "appointmentday        27\n",
       "age                  104\n",
       "neighbourhood         81\n",
       "scholarship            2\n",
       "hipertension           2\n",
       "diabetes               2\n",
       "alcoholism             2\n",
       "handcap                5\n",
       "sms_received           2\n",
       "no-show                2\n",
       "dtype: int64"
      ]
     },
     "execution_count": 73,
     "metadata": {},
     "output_type": "execute_result"
    }
   ],
   "source": [
    "# Checking the number of unique values\n",
    "df.nunique()"
   ]
  },
  {
   "cell_type": "markdown",
   "metadata": {},
   "source": [
    "### 2. Data cleaning and transformation\n",
    "As appointmentid feature is exclusive to each record (same number of entries and total samples), it can be droped. At a first glance, it seems that patientid could be removed once is a very specific value, but in a furder analysis it is possible to see that the number of unique values in patient id is less the total samples. It indicates that there are patients with more than one appointment. Hence, It is possible to identify those patients that have more no show appointments."
   ]
  },
  {
   "cell_type": "code",
   "execution_count": 74,
   "metadata": {},
   "outputs": [
    {
     "data": {
      "text/plain": [
       "patientid          62299\n",
       "gender                 2\n",
       "scheduledday      103549\n",
       "appointmentday        27\n",
       "age                  104\n",
       "neighbourhood         81\n",
       "scholarship            2\n",
       "hipertension           2\n",
       "diabetes               2\n",
       "alcoholism             2\n",
       "handcap                5\n",
       "sms_received           2\n",
       "no-show                2\n",
       "dtype: int64"
      ]
     },
     "execution_count": 74,
     "metadata": {},
     "output_type": "execute_result"
    }
   ],
   "source": [
    "# Removing appointmentid\n",
    "df.drop(['appointmentid'], axis=1, inplace=True)\n",
    "df.nunique()"
   ]
  },
  {
   "cell_type": "code",
   "execution_count": 75,
   "metadata": {},
   "outputs": [],
   "source": [
    "# Checking whether there are inconsistent data like:\n",
    "# age < 0\n",
    "df.drop(df.query('age < 0').index, inplace=True)\n",
    "# appointmentday before scheduledday\n",
    "df.drop(df.query('appointmentday < scheduledday').index, inplace=True)"
   ]
  },
  {
   "cell_type": "markdown",
   "metadata": {},
   "source": [
    "If there are duplicates, they can be removed"
   ]
  },
  {
   "cell_type": "code",
   "execution_count": 76,
   "metadata": {},
   "outputs": [],
   "source": [
    "# Checking duplicates\n",
    "df.duplicated().sum()\n",
    "# Droping duplicates\n",
    "df.drop_duplicates(inplace=True)"
   ]
  },
  {
   "cell_type": "markdown",
   "metadata": {},
   "source": [
    "Checking if there are null values"
   ]
  },
  {
   "cell_type": "code",
   "execution_count": 77,
   "metadata": {},
   "outputs": [
    {
     "data": {
      "text/plain": [
       "patientid         0\n",
       "gender            0\n",
       "scheduledday      0\n",
       "appointmentday    0\n",
       "age               0\n",
       "neighbourhood     0\n",
       "scholarship       0\n",
       "hipertension      0\n",
       "diabetes          0\n",
       "alcoholism        0\n",
       "handcap           0\n",
       "sms_received      0\n",
       "no-show           0\n",
       "dtype: int64"
      ]
     },
     "execution_count": 77,
     "metadata": {},
     "output_type": "execute_result"
    }
   ],
   "source": [
    "# Checking if there are null values\n",
    "df.isnull().sum()"
   ]
  },
  {
   "cell_type": "markdown",
   "metadata": {},
   "source": [
    "It was decided to create two columns to keep the weekday of schedule and appointment respectively. It was considered important to check if some specifics weekdays have more no show occurrencies. \n",
    "\n",
    "Besides, It was decided to create other two columns to check if the schedule and appointment were made in the beginning (days between 1 and 10), middle (days between 11 and 20) or in the end of the month (days between 21 and 31). That was decided in order to check if there is any correlation between the period of the month and the amount of no shows.\n",
    "\n",
    "In order to create those four columns, two functions were created. The first one *getMonthPeriodFromDate* [i] receives the date value as a string, once 'scheduledday' and 'appointmentday' has string values in original dataset, [ii] converts date value to DateTime and gets the day value. After that [iii] returns the period (beginning, middle or end).\n",
    "\n",
    "The second function *getWeekDayFromDate()* receives the weekday as number end returns it as a string ('Monday' to 'Sunday')\n",
    "\n",
    "Both functions were used to all items from 'scheduledday' and 'appointmentday' with 'map'. It was noticied that map function has a bad performance. Maybe there are alternatives to obtain the same result."
   ]
  },
  {
   "cell_type": "code",
   "execution_count": 78,
   "metadata": {},
   "outputs": [],
   "source": [
    "# Function that returns if a data is from beginning (1-10), middle (11-20) or end (20-31) of the month\n",
    "def getMonthPeriodFromDate(dateAsStr):\n",
    "    if pd.to_datetime(dateAsStr).day <= 10:\n",
    "        return \"beginning\"\n",
    "    elif pd.to_datetime(dateAsStr).day > 10 and pd.to_datetime(dateAsStr).day <= 20:\n",
    "        return \"middle\"\n",
    "    else:\n",
    "        return \"end\""
   ]
  },
  {
   "cell_type": "code",
   "execution_count": 79,
   "metadata": {},
   "outputs": [],
   "source": [
    "# Function that returns the name of weekday\n",
    "def getWeekDayFromDate(dateAsStr):\n",
    "    switcher = {\n",
    "        0: \"Monday\",\n",
    "        1: \"Tuesday\",\n",
    "        2: \"Wednesday\",\n",
    "        3: \"Thursday\",\n",
    "        4: \"Friday\",\n",
    "        5: \"Saturday\",\n",
    "        6: \"Sunday\"\n",
    "    }\n",
    "    return switcher.get(pd.to_datetime(dateAsStr).weekday())"
   ]
  },
  {
   "cell_type": "code",
   "execution_count": 80,
   "metadata": {},
   "outputs": [],
   "source": [
    "# Function that returns the Age Range from age\n",
    "# The age range considered is:\n",
    "#    Baby  -> [0,3]\n",
    "#    Child -> [4, 12]\n",
    "#    Teenager -> [13, 19]\n",
    "#    Adult -> [20, 60]\n",
    "#    Old -> [61, ...]\n",
    "def getAgeRange(age):\n",
    "    if age >= 0 and age <= 3:\n",
    "        return 'Baby'\n",
    "    elif age >= 4 and age <=12:\n",
    "        return 'Child'\n",
    "    elif age >= 13 and age <= 19:\n",
    "        return 'Teenager'\n",
    "    elif age >= 20 and age <= 60:\n",
    "        return 'Adult'\n",
    "    else:\n",
    "        return 'Old'"
   ]
  },
  {
   "cell_type": "code",
   "execution_count": 82,
   "metadata": {},
   "outputs": [
    {
     "data": {
      "text/html": [
       "<div>\n",
       "<style scoped>\n",
       "    .dataframe tbody tr th:only-of-type {\n",
       "        vertical-align: middle;\n",
       "    }\n",
       "\n",
       "    .dataframe tbody tr th {\n",
       "        vertical-align: top;\n",
       "    }\n",
       "\n",
       "    .dataframe thead th {\n",
       "        text-align: right;\n",
       "    }\n",
       "</style>\n",
       "<table border=\"1\" class=\"dataframe\">\n",
       "  <thead>\n",
       "    <tr style=\"text-align: right;\">\n",
       "      <th></th>\n",
       "      <th>patientid</th>\n",
       "      <th>gender</th>\n",
       "      <th>scheduledday</th>\n",
       "      <th>appointmentday</th>\n",
       "      <th>age</th>\n",
       "      <th>neighbourhood</th>\n",
       "      <th>scholarship</th>\n",
       "      <th>hipertension</th>\n",
       "      <th>diabetes</th>\n",
       "      <th>alcoholism</th>\n",
       "      <th>handcap</th>\n",
       "      <th>sms_received</th>\n",
       "      <th>no-show</th>\n",
       "      <th>age_range</th>\n",
       "      <th>scheduled_weekday</th>\n",
       "      <th>schedule_period_of_month</th>\n",
       "      <th>appointment_weekday</th>\n",
       "      <th>appointment_period_of_month</th>\n",
       "    </tr>\n",
       "  </thead>\n",
       "  <tbody>\n",
       "    <tr>\n",
       "      <th>5</th>\n",
       "      <td>9.598513e+13</td>\n",
       "      <td>F</td>\n",
       "      <td>2016-04-27T08:36:51Z</td>\n",
       "      <td>2016-04-29T00:00:00Z</td>\n",
       "      <td>76</td>\n",
       "      <td>REPÚBLICA</td>\n",
       "      <td>0</td>\n",
       "      <td>1</td>\n",
       "      <td>0</td>\n",
       "      <td>0</td>\n",
       "      <td>0</td>\n",
       "      <td>0</td>\n",
       "      <td>No</td>\n",
       "      <td>Old</td>\n",
       "      <td>Wednesday</td>\n",
       "      <td>end</td>\n",
       "      <td>Friday</td>\n",
       "      <td>end</td>\n",
       "    </tr>\n",
       "    <tr>\n",
       "      <th>6</th>\n",
       "      <td>7.336882e+14</td>\n",
       "      <td>F</td>\n",
       "      <td>2016-04-27T15:05:12Z</td>\n",
       "      <td>2016-04-29T00:00:00Z</td>\n",
       "      <td>23</td>\n",
       "      <td>GOIABEIRAS</td>\n",
       "      <td>0</td>\n",
       "      <td>0</td>\n",
       "      <td>0</td>\n",
       "      <td>0</td>\n",
       "      <td>0</td>\n",
       "      <td>0</td>\n",
       "      <td>Yes</td>\n",
       "      <td>Adult</td>\n",
       "      <td>Wednesday</td>\n",
       "      <td>end</td>\n",
       "      <td>Friday</td>\n",
       "      <td>end</td>\n",
       "    </tr>\n",
       "    <tr>\n",
       "      <th>7</th>\n",
       "      <td>3.449833e+12</td>\n",
       "      <td>F</td>\n",
       "      <td>2016-04-27T15:39:58Z</td>\n",
       "      <td>2016-04-29T00:00:00Z</td>\n",
       "      <td>39</td>\n",
       "      <td>GOIABEIRAS</td>\n",
       "      <td>0</td>\n",
       "      <td>0</td>\n",
       "      <td>0</td>\n",
       "      <td>0</td>\n",
       "      <td>0</td>\n",
       "      <td>0</td>\n",
       "      <td>Yes</td>\n",
       "      <td>Adult</td>\n",
       "      <td>Wednesday</td>\n",
       "      <td>end</td>\n",
       "      <td>Friday</td>\n",
       "      <td>end</td>\n",
       "    </tr>\n",
       "    <tr>\n",
       "      <th>9</th>\n",
       "      <td>7.812456e+13</td>\n",
       "      <td>F</td>\n",
       "      <td>2016-04-27T12:48:25Z</td>\n",
       "      <td>2016-04-29T00:00:00Z</td>\n",
       "      <td>19</td>\n",
       "      <td>CONQUISTA</td>\n",
       "      <td>0</td>\n",
       "      <td>0</td>\n",
       "      <td>0</td>\n",
       "      <td>0</td>\n",
       "      <td>0</td>\n",
       "      <td>0</td>\n",
       "      <td>No</td>\n",
       "      <td>Teenager</td>\n",
       "      <td>Wednesday</td>\n",
       "      <td>end</td>\n",
       "      <td>Friday</td>\n",
       "      <td>end</td>\n",
       "    </tr>\n",
       "    <tr>\n",
       "      <th>10</th>\n",
       "      <td>7.345362e+14</td>\n",
       "      <td>F</td>\n",
       "      <td>2016-04-27T14:58:11Z</td>\n",
       "      <td>2016-04-29T00:00:00Z</td>\n",
       "      <td>30</td>\n",
       "      <td>NOVA PALESTINA</td>\n",
       "      <td>0</td>\n",
       "      <td>0</td>\n",
       "      <td>0</td>\n",
       "      <td>0</td>\n",
       "      <td>0</td>\n",
       "      <td>0</td>\n",
       "      <td>No</td>\n",
       "      <td>Adult</td>\n",
       "      <td>Wednesday</td>\n",
       "      <td>end</td>\n",
       "      <td>Friday</td>\n",
       "      <td>end</td>\n",
       "    </tr>\n",
       "  </tbody>\n",
       "</table>\n",
       "</div>"
      ],
      "text/plain": [
       "       patientid gender          scheduledday        appointmentday  age  \\\n",
       "5   9.598513e+13      F  2016-04-27T08:36:51Z  2016-04-29T00:00:00Z   76   \n",
       "6   7.336882e+14      F  2016-04-27T15:05:12Z  2016-04-29T00:00:00Z   23   \n",
       "7   3.449833e+12      F  2016-04-27T15:39:58Z  2016-04-29T00:00:00Z   39   \n",
       "9   7.812456e+13      F  2016-04-27T12:48:25Z  2016-04-29T00:00:00Z   19   \n",
       "10  7.345362e+14      F  2016-04-27T14:58:11Z  2016-04-29T00:00:00Z   30   \n",
       "\n",
       "     neighbourhood  scholarship  hipertension  diabetes  alcoholism  handcap  \\\n",
       "5        REPÚBLICA            0             1         0           0        0   \n",
       "6       GOIABEIRAS            0             0         0           0        0   \n",
       "7       GOIABEIRAS            0             0         0           0        0   \n",
       "9        CONQUISTA            0             0         0           0        0   \n",
       "10  NOVA PALESTINA            0             0         0           0        0   \n",
       "\n",
       "    sms_received no-show age_range scheduled_weekday schedule_period_of_month  \\\n",
       "5              0      No       Old         Wednesday                      end   \n",
       "6              0     Yes     Adult         Wednesday                      end   \n",
       "7              0     Yes     Adult         Wednesday                      end   \n",
       "9              0      No  Teenager         Wednesday                      end   \n",
       "10             0      No     Adult         Wednesday                      end   \n",
       "\n",
       "   appointment_weekday appointment_period_of_month  \n",
       "5               Friday                         end  \n",
       "6               Friday                         end  \n",
       "7               Friday                         end  \n",
       "9               Friday                         end  \n",
       "10              Friday                         end  "
      ]
     },
     "execution_count": 82,
     "metadata": {},
     "output_type": "execute_result"
    }
   ],
   "source": [
    "# Creating five new columns (age_range and two to get weekday and period of the month to scheduled day and two to appointment day)\n",
    "# Each element of columns 'scheduledday' and 'appointmentday' is passed to the functions getMonthPeriodFromDate and getWeekDayFromDate by map \n",
    "# bad performance here :(\n",
    "df['age_range'] = df['age'].map(getAgeRange)\n",
    "\n",
    "df['scheduled_weekday'] = df['scheduledday'].map(getWeekDayFromDate)\n",
    "df['schedule_period_of_month'] = df['scheduledday'].map(getMonthPeriodFromDate)\n",
    "\n",
    "df['appointment_weekday']     = df['appointmentday'].map(getWeekDayFromDate)\n",
    "df['appointment_period_of_month'] = df['appointmentday'].map(getMonthPeriodFromDate)\n",
    "\n",
    "df.head()"
   ]
  },
  {
   "cell_type": "code",
   "execution_count": 83,
   "metadata": {},
   "outputs": [],
   "source": [
    "# Creating a new column to store the amount of days (interval) between scheduled date and appointment date\n",
    "df['days_between_sched_appoint'] = (pd.to_datetime(df['appointmentday']) - pd.to_datetime(df['scheduledday'])).dt.days"
   ]
  },
  {
   "cell_type": "code",
   "execution_count": 84,
   "metadata": {},
   "outputs": [
    {
     "data": {
      "text/html": [
       "<div>\n",
       "<style scoped>\n",
       "    .dataframe tbody tr th:only-of-type {\n",
       "        vertical-align: middle;\n",
       "    }\n",
       "\n",
       "    .dataframe tbody tr th {\n",
       "        vertical-align: top;\n",
       "    }\n",
       "\n",
       "    .dataframe thead th {\n",
       "        text-align: right;\n",
       "    }\n",
       "</style>\n",
       "<table border=\"1\" class=\"dataframe\">\n",
       "  <thead>\n",
       "    <tr style=\"text-align: right;\">\n",
       "      <th></th>\n",
       "      <th>patientid</th>\n",
       "      <th>gender</th>\n",
       "      <th>scheduledday</th>\n",
       "      <th>appointmentday</th>\n",
       "      <th>age</th>\n",
       "      <th>neighbourhood</th>\n",
       "      <th>scholarship</th>\n",
       "      <th>hipertension</th>\n",
       "      <th>diabetes</th>\n",
       "      <th>alcoholism</th>\n",
       "      <th>handcap</th>\n",
       "      <th>sms_received</th>\n",
       "      <th>no-show</th>\n",
       "      <th>age_range</th>\n",
       "      <th>scheduled_weekday</th>\n",
       "      <th>schedule_period_of_month</th>\n",
       "      <th>appointment_weekday</th>\n",
       "      <th>appointment_period_of_month</th>\n",
       "      <th>days_between_sched_appoint</th>\n",
       "    </tr>\n",
       "  </thead>\n",
       "  <tbody>\n",
       "    <tr>\n",
       "      <th>5</th>\n",
       "      <td>9.598513e+13</td>\n",
       "      <td>F</td>\n",
       "      <td>2016-04-27T08:36:51Z</td>\n",
       "      <td>2016-04-29T00:00:00Z</td>\n",
       "      <td>76</td>\n",
       "      <td>REPÚBLICA</td>\n",
       "      <td>0</td>\n",
       "      <td>1</td>\n",
       "      <td>0</td>\n",
       "      <td>0</td>\n",
       "      <td>0</td>\n",
       "      <td>0</td>\n",
       "      <td>No</td>\n",
       "      <td>Old</td>\n",
       "      <td>Wednesday</td>\n",
       "      <td>end</td>\n",
       "      <td>Friday</td>\n",
       "      <td>end</td>\n",
       "      <td>1</td>\n",
       "    </tr>\n",
       "    <tr>\n",
       "      <th>6</th>\n",
       "      <td>7.336882e+14</td>\n",
       "      <td>F</td>\n",
       "      <td>2016-04-27T15:05:12Z</td>\n",
       "      <td>2016-04-29T00:00:00Z</td>\n",
       "      <td>23</td>\n",
       "      <td>GOIABEIRAS</td>\n",
       "      <td>0</td>\n",
       "      <td>0</td>\n",
       "      <td>0</td>\n",
       "      <td>0</td>\n",
       "      <td>0</td>\n",
       "      <td>0</td>\n",
       "      <td>Yes</td>\n",
       "      <td>Adult</td>\n",
       "      <td>Wednesday</td>\n",
       "      <td>end</td>\n",
       "      <td>Friday</td>\n",
       "      <td>end</td>\n",
       "      <td>1</td>\n",
       "    </tr>\n",
       "    <tr>\n",
       "      <th>7</th>\n",
       "      <td>3.449833e+12</td>\n",
       "      <td>F</td>\n",
       "      <td>2016-04-27T15:39:58Z</td>\n",
       "      <td>2016-04-29T00:00:00Z</td>\n",
       "      <td>39</td>\n",
       "      <td>GOIABEIRAS</td>\n",
       "      <td>0</td>\n",
       "      <td>0</td>\n",
       "      <td>0</td>\n",
       "      <td>0</td>\n",
       "      <td>0</td>\n",
       "      <td>0</td>\n",
       "      <td>Yes</td>\n",
       "      <td>Adult</td>\n",
       "      <td>Wednesday</td>\n",
       "      <td>end</td>\n",
       "      <td>Friday</td>\n",
       "      <td>end</td>\n",
       "      <td>1</td>\n",
       "    </tr>\n",
       "    <tr>\n",
       "      <th>9</th>\n",
       "      <td>7.812456e+13</td>\n",
       "      <td>F</td>\n",
       "      <td>2016-04-27T12:48:25Z</td>\n",
       "      <td>2016-04-29T00:00:00Z</td>\n",
       "      <td>19</td>\n",
       "      <td>CONQUISTA</td>\n",
       "      <td>0</td>\n",
       "      <td>0</td>\n",
       "      <td>0</td>\n",
       "      <td>0</td>\n",
       "      <td>0</td>\n",
       "      <td>0</td>\n",
       "      <td>No</td>\n",
       "      <td>Teenager</td>\n",
       "      <td>Wednesday</td>\n",
       "      <td>end</td>\n",
       "      <td>Friday</td>\n",
       "      <td>end</td>\n",
       "      <td>1</td>\n",
       "    </tr>\n",
       "    <tr>\n",
       "      <th>10</th>\n",
       "      <td>7.345362e+14</td>\n",
       "      <td>F</td>\n",
       "      <td>2016-04-27T14:58:11Z</td>\n",
       "      <td>2016-04-29T00:00:00Z</td>\n",
       "      <td>30</td>\n",
       "      <td>NOVA PALESTINA</td>\n",
       "      <td>0</td>\n",
       "      <td>0</td>\n",
       "      <td>0</td>\n",
       "      <td>0</td>\n",
       "      <td>0</td>\n",
       "      <td>0</td>\n",
       "      <td>No</td>\n",
       "      <td>Adult</td>\n",
       "      <td>Wednesday</td>\n",
       "      <td>end</td>\n",
       "      <td>Friday</td>\n",
       "      <td>end</td>\n",
       "      <td>1</td>\n",
       "    </tr>\n",
       "    <tr>\n",
       "      <th>11</th>\n",
       "      <td>7.542951e+12</td>\n",
       "      <td>M</td>\n",
       "      <td>2016-04-26T08:44:12Z</td>\n",
       "      <td>2016-04-29T00:00:00Z</td>\n",
       "      <td>29</td>\n",
       "      <td>NOVA PALESTINA</td>\n",
       "      <td>0</td>\n",
       "      <td>0</td>\n",
       "      <td>0</td>\n",
       "      <td>0</td>\n",
       "      <td>0</td>\n",
       "      <td>1</td>\n",
       "      <td>Yes</td>\n",
       "      <td>Adult</td>\n",
       "      <td>Tuesday</td>\n",
       "      <td>end</td>\n",
       "      <td>Friday</td>\n",
       "      <td>end</td>\n",
       "      <td>2</td>\n",
       "    </tr>\n",
       "    <tr>\n",
       "      <th>12</th>\n",
       "      <td>5.666548e+14</td>\n",
       "      <td>F</td>\n",
       "      <td>2016-04-28T11:33:51Z</td>\n",
       "      <td>2016-04-29T00:00:00Z</td>\n",
       "      <td>22</td>\n",
       "      <td>NOVA PALESTINA</td>\n",
       "      <td>1</td>\n",
       "      <td>0</td>\n",
       "      <td>0</td>\n",
       "      <td>0</td>\n",
       "      <td>0</td>\n",
       "      <td>0</td>\n",
       "      <td>No</td>\n",
       "      <td>Adult</td>\n",
       "      <td>Thursday</td>\n",
       "      <td>end</td>\n",
       "      <td>Friday</td>\n",
       "      <td>end</td>\n",
       "      <td>0</td>\n",
       "    </tr>\n",
       "    <tr>\n",
       "      <th>13</th>\n",
       "      <td>9.113946e+14</td>\n",
       "      <td>M</td>\n",
       "      <td>2016-04-28T14:52:07Z</td>\n",
       "      <td>2016-04-29T00:00:00Z</td>\n",
       "      <td>28</td>\n",
       "      <td>NOVA PALESTINA</td>\n",
       "      <td>0</td>\n",
       "      <td>0</td>\n",
       "      <td>0</td>\n",
       "      <td>0</td>\n",
       "      <td>0</td>\n",
       "      <td>0</td>\n",
       "      <td>No</td>\n",
       "      <td>Adult</td>\n",
       "      <td>Thursday</td>\n",
       "      <td>end</td>\n",
       "      <td>Friday</td>\n",
       "      <td>end</td>\n",
       "      <td>0</td>\n",
       "    </tr>\n",
       "    <tr>\n",
       "      <th>14</th>\n",
       "      <td>9.988472e+13</td>\n",
       "      <td>F</td>\n",
       "      <td>2016-04-28T10:06:24Z</td>\n",
       "      <td>2016-04-29T00:00:00Z</td>\n",
       "      <td>54</td>\n",
       "      <td>NOVA PALESTINA</td>\n",
       "      <td>0</td>\n",
       "      <td>0</td>\n",
       "      <td>0</td>\n",
       "      <td>0</td>\n",
       "      <td>0</td>\n",
       "      <td>0</td>\n",
       "      <td>No</td>\n",
       "      <td>Adult</td>\n",
       "      <td>Thursday</td>\n",
       "      <td>end</td>\n",
       "      <td>Friday</td>\n",
       "      <td>end</td>\n",
       "      <td>0</td>\n",
       "    </tr>\n",
       "    <tr>\n",
       "      <th>15</th>\n",
       "      <td>9.994839e+10</td>\n",
       "      <td>F</td>\n",
       "      <td>2016-04-26T08:47:27Z</td>\n",
       "      <td>2016-04-29T00:00:00Z</td>\n",
       "      <td>15</td>\n",
       "      <td>NOVA PALESTINA</td>\n",
       "      <td>0</td>\n",
       "      <td>0</td>\n",
       "      <td>0</td>\n",
       "      <td>0</td>\n",
       "      <td>0</td>\n",
       "      <td>1</td>\n",
       "      <td>No</td>\n",
       "      <td>Teenager</td>\n",
       "      <td>Tuesday</td>\n",
       "      <td>end</td>\n",
       "      <td>Friday</td>\n",
       "      <td>end</td>\n",
       "      <td>2</td>\n",
       "    </tr>\n",
       "  </tbody>\n",
       "</table>\n",
       "</div>"
      ],
      "text/plain": [
       "       patientid gender          scheduledday        appointmentday  age  \\\n",
       "5   9.598513e+13      F  2016-04-27T08:36:51Z  2016-04-29T00:00:00Z   76   \n",
       "6   7.336882e+14      F  2016-04-27T15:05:12Z  2016-04-29T00:00:00Z   23   \n",
       "7   3.449833e+12      F  2016-04-27T15:39:58Z  2016-04-29T00:00:00Z   39   \n",
       "9   7.812456e+13      F  2016-04-27T12:48:25Z  2016-04-29T00:00:00Z   19   \n",
       "10  7.345362e+14      F  2016-04-27T14:58:11Z  2016-04-29T00:00:00Z   30   \n",
       "11  7.542951e+12      M  2016-04-26T08:44:12Z  2016-04-29T00:00:00Z   29   \n",
       "12  5.666548e+14      F  2016-04-28T11:33:51Z  2016-04-29T00:00:00Z   22   \n",
       "13  9.113946e+14      M  2016-04-28T14:52:07Z  2016-04-29T00:00:00Z   28   \n",
       "14  9.988472e+13      F  2016-04-28T10:06:24Z  2016-04-29T00:00:00Z   54   \n",
       "15  9.994839e+10      F  2016-04-26T08:47:27Z  2016-04-29T00:00:00Z   15   \n",
       "\n",
       "     neighbourhood  scholarship  hipertension  diabetes  alcoholism  handcap  \\\n",
       "5        REPÚBLICA            0             1         0           0        0   \n",
       "6       GOIABEIRAS            0             0         0           0        0   \n",
       "7       GOIABEIRAS            0             0         0           0        0   \n",
       "9        CONQUISTA            0             0         0           0        0   \n",
       "10  NOVA PALESTINA            0             0         0           0        0   \n",
       "11  NOVA PALESTINA            0             0         0           0        0   \n",
       "12  NOVA PALESTINA            1             0         0           0        0   \n",
       "13  NOVA PALESTINA            0             0         0           0        0   \n",
       "14  NOVA PALESTINA            0             0         0           0        0   \n",
       "15  NOVA PALESTINA            0             0         0           0        0   \n",
       "\n",
       "    sms_received no-show age_range scheduled_weekday schedule_period_of_month  \\\n",
       "5              0      No       Old         Wednesday                      end   \n",
       "6              0     Yes     Adult         Wednesday                      end   \n",
       "7              0     Yes     Adult         Wednesday                      end   \n",
       "9              0      No  Teenager         Wednesday                      end   \n",
       "10             0      No     Adult         Wednesday                      end   \n",
       "11             1     Yes     Adult           Tuesday                      end   \n",
       "12             0      No     Adult          Thursday                      end   \n",
       "13             0      No     Adult          Thursday                      end   \n",
       "14             0      No     Adult          Thursday                      end   \n",
       "15             1      No  Teenager           Tuesday                      end   \n",
       "\n",
       "   appointment_weekday appointment_period_of_month  days_between_sched_appoint  \n",
       "5               Friday                         end                           1  \n",
       "6               Friday                         end                           1  \n",
       "7               Friday                         end                           1  \n",
       "9               Friday                         end                           1  \n",
       "10              Friday                         end                           1  \n",
       "11              Friday                         end                           2  \n",
       "12              Friday                         end                           0  \n",
       "13              Friday                         end                           0  \n",
       "14              Friday                         end                           0  \n",
       "15              Friday                         end                           2  "
      ]
     },
     "execution_count": 84,
     "metadata": {},
     "output_type": "execute_result"
    }
   ],
   "source": [
    "df.head(10)"
   ]
  },
  {
   "cell_type": "markdown",
   "metadata": {},
   "source": [
    "## 3. Exploring with visuals to answer some questions"
   ]
  },
  {
   "cell_type": "markdown",
   "metadata": {},
   "source": [
    "Answering the questions\n",
    "\n",
    "### Q1. Do the patients' age or gender influence their no-show?\n",
    "\n",
    " * In order to answer the question 1, let's check the data behavior about gender and age against no-shows"
   ]
  },
  {
   "cell_type": "code",
   "execution_count": 85,
   "metadata": {},
   "outputs": [
    {
     "data": {
      "text/plain": [
       "gender  no-show\n",
       "F       No         34160\n",
       "        Yes        13544\n",
       "M       No         16932\n",
       "        Yes         6773\n",
       "dtype: int64"
      ]
     },
     "execution_count": 85,
     "metadata": {},
     "output_type": "execute_result"
    }
   ],
   "source": [
    "df.groupby(['gender', 'no-show']).size()"
   ]
  },
  {
   "cell_type": "code",
   "execution_count": 86,
   "metadata": {},
   "outputs": [
    {
     "data": {
      "image/png": "[encoded data removed]",
      "text/plain": [
       "<Figure size 432x288 with 1 Axes>"
      ]
     },
     "metadata": {},
     "output_type": "display_data"
    }
   ],
   "source": [
    "df.groupby(['gender', 'no-show']).size().unstack().plot(kind='bar',stacked=True);"
   ]
  },
  {
   "cell_type": "code",
   "execution_count": 87,
   "metadata": {},
   "outputs": [
    {
     "data": {
      "text/plain": [
       "age_range  no-show\n",
       "Adult      No         28099\n",
       "           Yes        11671\n",
       "Baby       No          3269\n",
       "           Yes         1458\n",
       "Child      No          5215\n",
       "           Yes         2338\n",
       "Old        No         10966\n",
       "           Yes         2805\n",
       "Teenager   No          3543\n",
       "           Yes         2045\n",
       "dtype: int64"
      ]
     },
     "execution_count": 87,
     "metadata": {},
     "output_type": "execute_result"
    }
   ],
   "source": [
    "df.groupby(['age_range', 'no-show']).size()"
   ]
  },
  {
   "cell_type": "code",
   "execution_count": 88,
   "metadata": {},
   "outputs": [
    {
     "data": {
      "image/png": "[encoded data removed]",
      "text/plain": [
       "<Figure size 432x288 with 1 Axes>"
      ]
     },
     "metadata": {},
     "output_type": "display_data"
    }
   ],
   "source": [
    "df.groupby(['age_range', 'no-show']).size().unstack().plot(kind='bar',stacked=True);"
   ]
  },
  {
   "cell_type": "markdown",
   "metadata": {},
   "source": [
    "### Q1 Answer\n",
    "\n",
    "* According to the graphs and data, the gender can not determine a tendency to no-show once both 'F' and 'M' have a very close no-show frequency (About 28%)]\n",
    "\n",
    "* According to the graphs and data, the age range Teenager has about 37% of no-show frequency. Baby and Child have about 30%. Those three types could be considered more likely not to show up."
   ]
  },
  {
   "cell_type": "markdown",
   "metadata": {},
   "source": [
    "### Q2. Are there days of the week of scheduled appointments that are most likely to no-show patients?\n",
    "\n",
    "The next question tries to infer if there is any correlation between the week days of schedule and appointments. Maybe because there are some influence factors that no-show might be increased in some week days. "
   ]
  },
  {
   "cell_type": "code",
   "execution_count": 89,
   "metadata": {},
   "outputs": [
    {
     "data": {
      "text/plain": [
       "scheduled_weekday  no-show\n",
       "Friday             No          8839\n",
       "                   Yes         3474\n",
       "Monday             No         10598\n",
       "                   Yes         4229\n",
       "Saturday           No            14\n",
       "                   Yes            1\n",
       "Thursday           No          8633\n",
       "                   Yes         3405\n",
       "Tuesday            No         12057\n",
       "                   Yes         4832\n",
       "Wednesday          No         10951\n",
       "                   Yes         4376\n",
       "dtype: int64"
      ]
     },
     "execution_count": 89,
     "metadata": {},
     "output_type": "execute_result"
    }
   ],
   "source": [
    "df.groupby(['scheduled_weekday', 'no-show']).size()"
   ]
  },
  {
   "cell_type": "code",
   "execution_count": 90,
   "metadata": {},
   "outputs": [
    {
     "data": {
      "image/png": "[encoded data removed]",
      "text/plain": [
       "<Figure size 432x288 with 1 Axes>"
      ]
     },
     "metadata": {},
     "output_type": "display_data"
    }
   ],
   "source": [
    "df.groupby(['scheduled_weekday', 'no-show']).size().unstack().plot(kind='bar',stacked=True);"
   ]
  },
  {
   "cell_type": "code",
   "execution_count": 91,
   "metadata": {},
   "outputs": [
    {
     "data": {
      "text/plain": [
       "appointment_weekday  no-show\n",
       "Friday               No          8746\n",
       "                     Yes         3631\n",
       "Monday               No         10097\n",
       "                     Yes         4351\n",
       "Saturday             No            22\n",
       "                     Yes            9\n",
       "Thursday             No          8201\n",
       "                     Yes         3063\n",
       "Tuesday              No         11679\n",
       "                     Yes         4672\n",
       "Wednesday            No         12347\n",
       "                     Yes         4591\n",
       "dtype: int64"
      ]
     },
     "execution_count": 91,
     "metadata": {},
     "output_type": "execute_result"
    }
   ],
   "source": [
    "df.groupby(['appointment_weekday', 'no-show']).size()"
   ]
  },
  {
   "cell_type": "code",
   "execution_count": 92,
   "metadata": {},
   "outputs": [
    {
     "data": {
      "image/png": "[encoded data removed]",
      "text/plain": [
       "<Figure size 432x288 with 1 Axes>"
      ]
     },
     "metadata": {},
     "output_type": "display_data"
    }
   ],
   "source": [
    "df.groupby(['appointment_weekday', 'no-show']).size().unstack().plot(kind='bar',stacked=True);"
   ]
  },
  {
   "cell_type": "markdown",
   "metadata": {},
   "source": [
    "### Q2 Answer\n",
    "As we can see in both previous graphs there is no correlation between week day in which the schedule was made or the appointment was made. The proportion of no-show is almost the same among all week days (29%)."
   ]
  },
  {
   "cell_type": "markdown",
   "metadata": {},
   "source": [
    "### Q3. Patients with any disease are more likely not to show up?\n",
    "\n",
    "Let's check if patients with disease (hipertension, diabetes, alcoholism, handcap) have more no-show frequency."
   ]
  },
  {
   "cell_type": "code",
   "execution_count": 93,
   "metadata": {},
   "outputs": [
    {
     "data": {
      "image/png": "[encoded data removed]",
      "text/plain": [
       "<Figure size 432x288 with 1 Axes>"
      ]
     },
     "metadata": {},
     "output_type": "display_data"
    }
   ],
   "source": [
    "# Hipertension\n",
    "df.groupby(['hipertension', 'no-show']).size().unstack().plot(kind='bar',stacked=True);"
   ]
  },
  {
   "cell_type": "code",
   "execution_count": 94,
   "metadata": {},
   "outputs": [
    {
     "data": {
      "image/png": "[encoded data removed]",
      "text/plain": [
       "<Figure size 432x288 with 1 Axes>"
      ]
     },
     "metadata": {},
     "output_type": "display_data"
    }
   ],
   "source": [
    "# Diabetes\n",
    "df.groupby(['diabetes', 'no-show']).size().unstack().plot(kind='bar',stacked=True);"
   ]
  },
  {
   "cell_type": "code",
   "execution_count": 95,
   "metadata": {},
   "outputs": [
    {
     "data": {
      "image/png": "[encoded data removed]",
      "text/plain": [
       "<Figure size 432x288 with 1 Axes>"
      ]
     },
     "metadata": {},
     "output_type": "display_data"
    }
   ],
   "source": [
    "# Alcoholism\n",
    "df.groupby(['alcoholism', 'no-show']).size().unstack().plot(kind='bar',stacked=True);"
   ]
  },
  {
   "cell_type": "code",
   "execution_count": 96,
   "metadata": {},
   "outputs": [
    {
     "data": {
      "image/png": "[encoded data removed]",
      "text/plain": [
       "<Figure size 432x288 with 1 Axes>"
      ]
     },
     "metadata": {},
     "output_type": "display_data"
    }
   ],
   "source": [
    "# Handcap                \n",
    "df.groupby(['handcap', 'no-show']).size().unstack().plot(kind='bar',stacked=True);"
   ]
  },
  {
   "cell_type": "markdown",
   "metadata": {},
   "source": [
    "### Q3. Answer\n",
    "\n",
    "As we can see in previous graphs the proportion of no-show patients with disease is less than in patients with no diseases. So, we can conclude that having some of those health limitations is not a factor to no showing up."
   ]
  },
  {
   "cell_type": "markdown",
   "metadata": {},
   "source": [
    "### Q4. Are there more no-shows patients in the beginning (Days between 1 to 10), middle (days between 10 to 20) or end of the month (days between 21 to 31)?\n",
    "\n",
    "This questions tries to identify if there is a correlation of no-shows and the period of the appointment in the month (Beginning, Middle or End)"
   ]
  },
  {
   "cell_type": "code",
   "execution_count": 97,
   "metadata": {},
   "outputs": [
    {
     "data": {
      "text/plain": [
       "appointment_period_of_month  no-show\n",
       "beginning                    No         26146\n",
       "                             Yes        10141\n",
       "end                          No          9227\n",
       "                             Yes         3570\n",
       "middle                       No         15719\n",
       "                             Yes         6606\n",
       "dtype: int64"
      ]
     },
     "execution_count": 97,
     "metadata": {},
     "output_type": "execute_result"
    }
   ],
   "source": [
    "df.groupby(['appointment_period_of_month', 'no-show']).size()"
   ]
  },
  {
   "cell_type": "code",
   "execution_count": 98,
   "metadata": {},
   "outputs": [
    {
     "data": {
      "image/png": "[encoded data removed]",
      "text/plain": [
       "<Figure size 432x288 with 1 Axes>"
      ]
     },
     "metadata": {},
     "output_type": "display_data"
    }
   ],
   "source": [
    "df.groupby(['appointment_period_of_month', 'no-show']).size().unstack().plot(kind='bar',stacked=True);"
   ]
  },
  {
   "cell_type": "markdown",
   "metadata": {},
   "source": [
    "### Q4 Answer\n",
    "\n",
    "We can observe that the period of the month does not determine the increase of no-shows. All the three periods have similar occurrence of no-shows (About 30%)"
   ]
  },
  {
   "cell_type": "markdown",
   "metadata": {},
   "source": [
    "### Q5. Does the patient's scholarship receipt influence his absence?\n",
    "\n",
    "In order to answer this question, let's check the correlation between no-shows and scholarship."
   ]
  },
  {
   "cell_type": "code",
   "execution_count": 99,
   "metadata": {},
   "outputs": [
    {
     "data": {
      "text/plain": [
       "scholarship  no-show\n",
       "0            No         46785\n",
       "             Yes        18005\n",
       "1            No          4307\n",
       "             Yes         2312\n",
       "dtype: int64"
      ]
     },
     "execution_count": 99,
     "metadata": {},
     "output_type": "execute_result"
    }
   ],
   "source": [
    "df.groupby(['scholarship', 'no-show']).size()"
   ]
  },
  {
   "cell_type": "code",
   "execution_count": 100,
   "metadata": {},
   "outputs": [
    {
     "data": {
      "image/png": "[encoded data removed]",
      "text/plain": [
       "<Figure size 432x288 with 1 Axes>"
      ]
     },
     "metadata": {},
     "output_type": "display_data"
    }
   ],
   "source": [
    "df.groupby(['scholarship', 'no-show']).size().unstack().plot(kind='bar',stacked=True);"
   ]
  },
  {
   "cell_type": "markdown",
   "metadata": {},
   "source": [
    "### Q5 Answer\n",
    "\n",
    "Analysing the previous data (Scholarship X No-Show) we can observe that the amount of patients that receives scholarship is less than the amount of patients who don't. Despite of it, the proportion of those don't show up is greather in patient group who receives scholarship, about 35% against 28% who don't receive."
   ]
  },
  {
   "cell_type": "markdown",
   "metadata": {},
   "source": [
    "### Q6. The reception of SMS helps patients to show up in their appointments?\n",
    "\n",
    "Let's check if patients who received SMS shows up more than who don't received."
   ]
  },
  {
   "cell_type": "code",
   "execution_count": 101,
   "metadata": {},
   "outputs": [
    {
     "data": {
      "text/plain": [
       "sms_received  no-show\n",
       "0             No         25394\n",
       "              Yes        10533\n",
       "1             No         25698\n",
       "              Yes         9784\n",
       "dtype: int64"
      ]
     },
     "execution_count": 101,
     "metadata": {},
     "output_type": "execute_result"
    }
   ],
   "source": [
    "df.groupby(['sms_received', 'no-show']).size()"
   ]
  },
  {
   "cell_type": "code",
   "execution_count": 102,
   "metadata": {},
   "outputs": [
    {
     "data": {
      "image/png": "[encoded data removed]",
      "text/plain": [
       "<Figure size 432x288 with 1 Axes>"
      ]
     },
     "metadata": {},
     "output_type": "display_data"
    }
   ],
   "source": [
    "df.groupby(['sms_received', 'no-show']).size().unstack().plot(kind='bar',stacked=True);"
   ]
  },
  {
   "cell_type": "markdown",
   "metadata": {},
   "source": [
    "### Q6 Answer\n",
    "By observing the data related to receiving SMS, it is observed that the group of users who receive and the group of those who do not receive have practically the same frequency of no-show. Therefore, we can not deduce that the non-receipt of SMS indicates no-show."
   ]
  },
  {
   "cell_type": "markdown",
   "metadata": {},
   "source": [
    "### Q7. Is the interval between schedule day and appointment day influences no-shows?\n",
    "\n",
    "This question aims to check if the amount of days between schedule and appointment can determine the number of no-shows. This question was thought assuming that the greater interval of days, the greater the number of no-shows."
   ]
  },
  {
   "cell_type": "code",
   "execution_count": 103,
   "metadata": {},
   "outputs": [
    {
     "data": {
      "image/png": "[encoded data removed]",
      "text/plain": [
       "<Figure size 432x288 with 1 Axes>"
      ]
     },
     "metadata": {},
     "output_type": "display_data"
    }
   ],
   "source": [
    "# Initially we will check the distribution of days apart in the dataset.\n",
    "df['days_between_sched_appoint'].hist();"
   ]
  },
  {
   "cell_type": "code",
   "execution_count": 104,
   "metadata": {},
   "outputs": [
    {
     "data": {
      "text/plain": [
       "days_between_sched_appoint  no-show\n",
       "0                           No         4063\n",
       "                            Yes        1099\n",
       "1                           No         5103\n",
       "                            Yes        1595\n",
       "2                           No         2076\n",
       "                            Yes         635\n",
       "3                           No         4046\n",
       "                            Yes        1223\n",
       "4                           No         2402\n",
       "                            Yes         862\n",
       "5                           No         3016\n",
       "                            Yes         999\n",
       "6                           No         3563\n",
       "                            Yes        1299\n",
       "7                           No         1644\n",
       "                            Yes         666\n",
       "8                           No         1159\n",
       "                            Yes         436\n",
       "9                           No          944\n",
       "                            Yes         434\n",
       "10                          No          666\n",
       "                            Yes         306\n",
       "11                          No          750\n",
       "                            Yes         349\n",
       "12                          No         1142\n",
       "                            Yes         533\n",
       "13                          No         1986\n",
       "                            Yes         906\n",
       "14                          No          993\n",
       "                            Yes         497\n",
       "                                       ... \n",
       "17                          No          708\n",
       "                            Yes         305\n",
       "18                          No          679\n",
       "                            Yes         352\n",
       "19                          No          768\n",
       "                            Yes         405\n",
       "20                          No         1279\n",
       "                            Yes         570\n",
       "21                          No          766\n",
       "                            Yes         403\n",
       "22                          No          543\n",
       "                            Yes         273\n",
       "23                          No          386\n",
       "                            Yes         230\n",
       "24                          No          376\n",
       "                            Yes         253\n",
       "25                          No          468\n",
       "                            Yes         259\n",
       "26                          No          685\n",
       "                            Yes         315\n",
       "27                          No         1192\n",
       "                            Yes         496\n",
       "28                          No          727\n",
       "                            Yes         353\n",
       "29                          No          515\n",
       "                            Yes         186\n",
       "30                          No          447\n",
       "                            Yes         215\n",
       "31                          No          377\n",
       "                            Yes         200\n",
       "Length: 64, dtype: int64"
      ]
     },
     "execution_count": 104,
     "metadata": {},
     "output_type": "execute_result"
    }
   ],
   "source": [
    "# As many of the days are concentrated less then 50, it was decided to filter the data frame considering only the \n",
    "# interval of 31 days (a month) between schedule and appointment.\n",
    "df_less31 = df.query('days_between_sched_appoint <= 31')\n",
    "df_less31.groupby(['days_between_sched_appoint', 'no-show']).size()"
   ]
  },
  {
   "cell_type": "code",
   "execution_count": 105,
   "metadata": {},
   "outputs": [
    {
     "data": {
      "image/png": "[encoded data removed]",
      "text/plain": [
       "<Figure size 432x288 with 1 Axes>"
      ]
     },
     "metadata": {},
     "output_type": "display_data"
    }
   ],
   "source": [
    "df_less31.groupby(['days_between_sched_appoint', 'no-show']).size().unstack().plot(kind='bar',stacked=True);"
   ]
  },
  {
   "cell_type": "markdown",
   "metadata": {},
   "source": [
    "### Q7. Answer\n",
    "\n",
    "When the range of days between scheduling and consultation is less than 10 days the no-show rate is around 25%. From ten days onwards this rate is around 30% and its highest point (40%) when the interval is 24 days. We can conclude that when the consultation date is more than 10 days from the date the appointment was made, the number of no-shows tends to be higher."
   ]
  },
  {
   "cell_type": "markdown",
   "metadata": {},
   "source": [
    "# General Question Answer\n",
    "\n",
    "## Which characteristics determine that a patient will not appear?,\n",
    "\n",
    "By the answer of the previous intermediate questions, we got some information that could give some clue that a patient will not show up.\n",
    "\n",
    "1. When the appointments are for Babies, Children or Teenagers, the frequency of no-show is greather than it is for Adults or \n",
    "Agededs.\n",
    "2. Patients who receives scholarship have a slightly bigger no show frequency than those dont receive\n",
    "3. It was detected that when the interval of days between schedule and appoint is greather than 10 days, the number of no-shows tends to increase.\n"
   ]
  }
 ],
 "metadata": {
  "kernelspec": {
   "display_name": "Python 3",
   "language": "python",
   "name": "python3"
  },
  "language_info": {
   "codemirror_mode": {
    "name": "ipython",
    "version": 3
   },
   "file_extension": ".py",
   "mimetype": "text/x-python",
   "name": "python",
   "nbconvert_exporter": "python",
   "pygments_lexer": "ipython3",
   "version": "3.6.6"
  }
 },
 "nbformat": 4,
 "nbformat_minor": 2
}
